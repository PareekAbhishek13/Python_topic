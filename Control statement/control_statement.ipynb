{
  "nbformat": 4,
  "nbformat_minor": 0,
  "metadata": {
    "colab": {
      "provenance": []
    },
    "kernelspec": {
      "name": "python3",
      "display_name": "Python 3"
    },
    "language_info": {
      "name": "python"
    }
  },
  "cells": [
    {
      "cell_type": "code",
      "execution_count": null,
      "metadata": {
        "id": "utc0ODg0FiI0"
      },
      "outputs": [],
      "source": [
        "if condition:\n",
        "  block of if\n",
        "elif condition2:\n",
        "  block of elif\n",
        "else:\n",
        "  block of else"
      ]
    },
    {
      "cell_type": "code",
      "source": [
        "anything =input(\"enter something\")\n",
        "if anything:\n",
        "  print(\"here is something\")\n",
        "else:\n",
        "  print('here is nothing')"
      ],
      "metadata": {
        "colab": {
          "base_uri": "https://localhost:8080/"
        },
        "id": "CKwd-jMOGqzt",
        "outputId": "eb34b2de-ad56-42a0-aad3-6c47a128a918"
      },
      "execution_count": 4,
      "outputs": [
        {
          "output_type": "stream",
          "name": "stdout",
          "text": [
            "enter somethingtrtydtrj\n",
            "here is something\n"
          ]
        }
      ]
    },
    {
      "cell_type": "code",
      "source": [
        "#odd even program\n",
        "# input()  === always have string value\n",
        "# int(input()) == value should be integer\n",
        "# float(input())====float\n",
        "number = int(input())\n",
        "if number%2==0:\n",
        "  print('number is even')\n",
        "else:\n",
        "  print('number is odd')"
      ],
      "metadata": {
        "colab": {
          "base_uri": "https://localhost:8080/"
        },
        "id": "u2PC4eYlG3p1",
        "outputId": "33754638-4c0f-4bb0-a6c7-872f8edf2d42"
      },
      "execution_count": 7,
      "outputs": [
        {
          "output_type": "stream",
          "name": "stdout",
          "text": [
            "90\n",
            "number is even\n"
          ]
        }
      ]
    },
    {
      "cell_type": "code",
      "source": [
        "number = int(input())\n",
        "if number%2:\n",
        "  print('number is odd')\n",
        "else:\n",
        "  print('number is even')"
      ],
      "metadata": {
        "colab": {
          "base_uri": "https://localhost:8080/"
        },
        "id": "uyqtxLynHnrQ",
        "outputId": "6a2afb50-c1a2-4b49-f45c-abbc8ba6fee9"
      },
      "execution_count": 9,
      "outputs": [
        {
          "output_type": "stream",
          "name": "stdout",
          "text": [
            "10\n",
            "number is even\n"
          ]
        }
      ]
    },
    {
      "cell_type": "code",
      "source": [
        "a=int(input('enter angle 1:'))\n",
        "b=int(input('enter angle 2:'))\n",
        "c=int(input('enter angle 3:'))\n",
        "if a+b+c==180:\n",
        "  print('triangle is valid')\n",
        "else:\n",
        "  print('tirangle id invalid')\n"
      ],
      "metadata": {
        "colab": {
          "base_uri": "https://localhost:8080/"
        },
        "id": "tb5PJg25J2om",
        "outputId": "a4919639-a6cb-4105-a401-6c512bd6e7d2"
      },
      "execution_count": 11,
      "outputs": [
        {
          "output_type": "stream",
          "name": "stdout",
          "text": [
            "enter angle 1:50\n",
            "enter angle 2:40\n",
            "enter angle 3:40\n",
            "tirangle id invalid\n"
          ]
        }
      ]
    },
    {
      "cell_type": "code",
      "source": [
        "a=int(input('Enter a:'))\n",
        "b=int(input('Enter b:'))\n",
        "value=a**2 + b**2 +2*a*b\n",
        "if value :\n",
        "  print(f'value of equation: {a}**2 + {b}**2 +2*{a}*{b} = ',value)\n",
        "else :\n",
        "  print('invalid values')"
      ],
      "metadata": {
        "colab": {
          "base_uri": "https://localhost:8080/"
        },
        "id": "D-GkkyYKLRcY",
        "outputId": "cd84fb7a-5623-457f-e80f-d3f16c009a9d"
      },
      "execution_count": 17,
      "outputs": [
        {
          "output_type": "stream",
          "name": "stdout",
          "text": [
            "Enter a:3\n",
            "Enter b:4\n",
            "value of equation: 3**2 + 4**2 +2*3*4 =  49\n"
          ]
        }
      ]
    },
    {
      "cell_type": "code",
      "source": [
        "# check number is negative positive or zero\n",
        "n=int(input('Enter number: '))\n",
        "if n > 0:\n",
        "  print('positive')\n",
        "elif n < 0:\n",
        "  print('negative')\n",
        "else:\n",
        "  print('zero')\n"
      ],
      "metadata": {
        "colab": {
          "base_uri": "https://localhost:8080/"
        },
        "id": "K6xFAG5TMOU5",
        "outputId": "eb5394c0-21ea-4fd8-f502-7a77f97716ad"
      },
      "execution_count": 20,
      "outputs": [
        {
          "output_type": "stream",
          "name": "stdout",
          "text": [
            "Enter number: 0\n",
            "zero\n"
          ]
        }
      ]
    },
    {
      "cell_type": "code",
      "source": [],
      "metadata": {
        "id": "12tLEvEXN8XF"
      },
      "execution_count": null,
      "outputs": []
    }
  ]
}