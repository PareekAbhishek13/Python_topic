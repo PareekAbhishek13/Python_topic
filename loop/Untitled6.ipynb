{
  "nbformat": 4,
  "nbformat_minor": 0,
  "metadata": {
    "colab": {
      "provenance": []
    },
    "kernelspec": {
      "name": "python3",
      "display_name": "Python 3"
    },
    "language_info": {
      "name": "python"
    }
  },
  "cells": [
    {
      "cell_type": "code",
      "execution_count": 1,
      "metadata": {
        "colab": {
          "base_uri": "https://localhost:8080/"
        },
        "id": "yXmregV3IE3n",
        "outputId": "bc1dd35e-c1f7-4486-b97f-17f2cecb1b63"
      },
      "outputs": [
        {
          "output_type": "stream",
          "name": "stdout",
          "text": [
            "i= 0\n",
            "j= 0\n",
            "i= 0\n",
            "j= 1\n",
            "i= 0\n",
            "j= 2\n",
            "i= 0\n",
            "j= 3\n",
            "i= 0\n",
            "j= 4\n",
            "i= 1\n",
            "j= 0\n",
            "i= 1\n",
            "j= 1\n",
            "i= 1\n",
            "j= 2\n",
            "i= 1\n",
            "j= 3\n",
            "i= 1\n",
            "j= 4\n",
            "i= 2\n",
            "j= 0\n",
            "i= 2\n",
            "j= 1\n",
            "i= 2\n",
            "j= 2\n",
            "i= 2\n",
            "j= 3\n",
            "i= 2\n",
            "j= 4\n",
            "i= 3\n",
            "j= 0\n",
            "i= 3\n",
            "j= 1\n",
            "i= 3\n",
            "j= 2\n",
            "i= 3\n",
            "j= 3\n",
            "i= 3\n",
            "j= 4\n",
            "i= 4\n",
            "j= 0\n",
            "i= 4\n",
            "j= 1\n",
            "i= 4\n",
            "j= 2\n",
            "i= 4\n",
            "j= 3\n",
            "i= 4\n",
            "j= 4\n"
          ]
        }
      ],
      "source": [
        "for i in range(5):\n",
        "  for j in range(5):\n",
        "    print(\"i=\",i)\n",
        "    print(\"j=\",j)"
      ]
    },
    {
      "cell_type": "code",
      "source": [
        "     1\n",
        "    1 2\n",
        "  1  2  3\n",
        "1  2   3  4"
      ],
      "metadata": {
        "id": "35gsA68AISAi"
      },
      "execution_count": null,
      "outputs": []
    },
    {
      "cell_type": "code",
      "source": [
        "for i in range(1,5):\n",
        "  print(' '*(5-i),end='')\n",
        "  for j in range(1,i+1):\n",
        "    print(j,end=' ')\n",
        "  print()"
      ],
      "metadata": {
        "colab": {
          "base_uri": "https://localhost:8080/"
        },
        "id": "-KZ2whEuJNF-",
        "outputId": "f05070e1-e0ab-414a-c961-2cbda9830afb"
      },
      "execution_count": 8,
      "outputs": [
        {
          "output_type": "stream",
          "name": "stdout",
          "text": [
            "    1 \n",
            "   1 2 \n",
            "  1 2 3 \n",
            " 1 2 3 4 \n"
          ]
        }
      ]
    },
    {
      "cell_type": "code",
      "source": [
        "       1\n",
        "      232\n",
        "     34543\n",
        "    4567654\n",
        "   567898765"
      ],
      "metadata": {
        "id": "LJbTI4dfKV5C"
      },
      "execution_count": null,
      "outputs": []
    },
    {
      "cell_type": "code",
      "source": [
        "c=2\n",
        "s=1\n",
        "for i in range(1,6):\n",
        "  print(' '*(6-i),end='')\n",
        "  for j in range(1,c):\n",
        "    print(s,end='')\n",
        "    if s>=i:\n",
        "      s-=1\n",
        "    else:\n",
        "       s+=1\n",
        "  print()\n",
        "  c+=2\n",
        ""
      ],
      "metadata": {
        "colab": {
          "base_uri": "https://localhost:8080/"
        },
        "id": "-vMw7KrhL-oo",
        "outputId": "9c0ff798-7950-485d-a75d-c21c14aedc91"
      },
      "execution_count": 30,
      "outputs": [
        {
          "output_type": "stream",
          "name": "stdout",
          "text": [
            "     1\n",
            "    012\n",
            "   12323\n",
            "  2343434\n",
            " 345454545\n"
          ]
        }
      ]
    },
    {
      "cell_type": "code",
      "source": [
        "c=1\n",
        "s=1\n",
        "r=1\n",
        "for i in range(1,6):\n",
        "  print(' '*(6-i),end='')\n",
        "  for j in range(1,c+1):\n",
        "    print(s,end='')\n",
        "    if s>=r:\n",
        "      s-=1\n",
        "    else:\n",
        "      s+=1\n",
        "  print()\n",
        "  c+=2\n",
        "  r+=2"
      ],
      "metadata": {
        "colab": {
          "base_uri": "https://localhost:8080/"
        },
        "id": "9NwboIjcNGHo",
        "outputId": "aa3fbcd9-562d-47c3-8fe8-b8747d664f64"
      },
      "execution_count": 48,
      "outputs": [
        {
          "output_type": "stream",
          "name": "stdout",
          "text": [
            "     1\n",
            "    012\n",
            "   34545\n",
            "  4567676\n",
            " 789898989\n"
          ]
        }
      ]
    },
    {
      "cell_type": "code",
      "source": [],
      "metadata": {
        "id": "Dr-jVzK_ROlG"
      },
      "execution_count": null,
      "outputs": []
    }
  ]
}