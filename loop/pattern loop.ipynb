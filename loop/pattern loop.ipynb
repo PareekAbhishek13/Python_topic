{
 "cells": [
  {
   "cell_type": "code",
   "execution_count": 4,
   "id": "f712dfe8",
   "metadata": {},
   "outputs": [
    {
     "name": "stdout",
     "output_type": "stream",
     "text": [
      "******\n",
      "******\n",
      "******\n",
      "******\n",
      "******\n"
     ]
    }
   ],
   "source": [
    "for i in range(5):\n",
    " for j in range(6):\n",
    "   print(\"*\",end=\"\")\n",
    " print()"
   ]
  },
  {
   "cell_type": "code",
   "execution_count": 6,
   "id": "6126c609",
   "metadata": {},
   "outputs": [
    {
     "name": "stdout",
     "output_type": "stream",
     "text": [
      "*\n",
      "**\n",
      "***\n",
      "****\n",
      "*****\n"
     ]
    }
   ],
   "source": [
    "for i in range(5):\n",
    " for j in range(i+1):\n",
    "  print(\"*\",end=\"\")\n",
    " print()"
   ]
  },
  {
   "cell_type": "code",
   "execution_count": 8,
   "id": "18639149",
   "metadata": {},
   "outputs": [
    {
     "name": "stdout",
     "output_type": "stream",
     "text": [
      "**\n",
      "***\n",
      "****\n",
      "*****\n",
      "******\n",
      "*******\n",
      "********\n",
      "*********\n"
     ]
    }
   ],
   "source": [
    "for i in range(8):\n",
    " for j in range(i+2):\n",
    "  print(\"*\",end=\"\")\n",
    " print()"
   ]
  },
  {
   "cell_type": "code",
   "execution_count": 13,
   "id": "f3a511f0",
   "metadata": {},
   "outputs": [
    {
     "name": "stdout",
     "output_type": "stream",
     "text": [
      "*\n",
      "**\n",
      "***\n",
      "****\n",
      "*****\n",
      "******\n",
      "*******\n",
      "********\n",
      "*********\n",
      "**********\n"
     ]
    }
   ],
   "source": [
    "for i in range(1,11):\n",
    " print(\"*\"*i)"
   ]
  },
  {
   "cell_type": "code",
   "execution_count": 15,
   "id": "1b6d45b1",
   "metadata": {},
   "outputs": [
    {
     "name": "stdout",
     "output_type": "stream",
     "text": [
      "**********\n",
      "*********\n",
      "********\n",
      "*******\n",
      "******\n",
      "*****\n",
      "****\n",
      "***\n",
      "**\n",
      "*\n"
     ]
    }
   ],
   "source": [
    "for i in range(10,0,-1):\n",
    " print(\"*\"*i)"
   ]
  },
  {
   "cell_type": "code",
   "execution_count": 18,
   "id": "fd1c9697",
   "metadata": {
    "scrolled": true
   },
   "outputs": [
    {
     "name": "stdout",
     "output_type": "stream",
     "text": [
      "       *\n",
      "      **\n",
      "     ***\n",
      "    ****\n",
      "   *****\n",
      "  ******\n",
      " *******\n"
     ]
    }
   ],
   "source": [
    "for i in range(1,8):\n",
    "  print(' '*(8-i)+\"*\"*i)"
   ]
  },
  {
   "cell_type": "code",
   "execution_count": 20,
   "id": "9deca663",
   "metadata": {},
   "outputs": [
    {
     "name": "stdout",
     "output_type": "stream",
     "text": [
      "*\n",
      "**\n",
      "***\n",
      "****\n",
      "*****\n",
      "******\n",
      "*******\n",
      "********\n",
      "*********\n",
      "**********\n"
     ]
    }
   ],
   "source": [
    "for i in range(1,11):\n",
    "  print(\"*\"*i)"
   ]
  },
  {
   "cell_type": "code",
   "execution_count": 21,
   "id": "b91c17fc",
   "metadata": {},
   "outputs": [
    {
     "name": "stdout",
     "output_type": "stream",
     "text": [
      "**********\n",
      "*********\n",
      "********\n",
      "*******\n",
      "******\n",
      "*****\n",
      "****\n",
      "***\n",
      "**\n",
      "*\n"
     ]
    }
   ],
   "source": [
    "for i in range(10,0,-1):\n",
    "  print(\"*\"*i)"
   ]
  },
  {
   "cell_type": "code",
   "execution_count": 23,
   "id": "f314ffa8",
   "metadata": {},
   "outputs": [
    {
     "name": "stdout",
     "output_type": "stream",
     "text": [
      "       *\n",
      "      **\n",
      "     ***\n",
      "    ****\n",
      "   *****\n",
      "  ******\n",
      " *******\n"
     ]
    }
   ],
   "source": [
    "for i in range(1,8):\n",
    "  print(' '*(8-i)+\"*\"*i)"
   ]
  },
  {
   "cell_type": "code",
   "execution_count": 24,
   "id": "544c8762",
   "metadata": {},
   "outputs": [
    {
     "name": "stdout",
     "output_type": "stream",
     "text": [
      "********\n",
      " *******\n",
      "  ******\n",
      "   *****\n",
      "    ****\n",
      "     ***\n",
      "      **\n",
      "       *\n"
     ]
    }
   ],
   "source": [
    "for i in range(8,0,-1):\n",
    "  print(' '*(8-i)+'*'*i)"
   ]
  },
  {
   "cell_type": "code",
   "execution_count": 25,
   "id": "44a26699",
   "metadata": {},
   "outputs": [
    {
     "name": "stdout",
     "output_type": "stream",
     "text": [
      "     * \n",
      "    * * \n",
      "   * * * \n",
      "  * * * * \n",
      " * * * * * \n",
      "* * * * * * \n"
     ]
    }
   ],
   "source": [
    "for i in range(1,7):\n",
    "  print(' '*(6-i)+'* '*i)"
   ]
  },
  {
   "cell_type": "code",
   "execution_count": 26,
   "id": "6a34a3ab",
   "metadata": {},
   "outputs": [
    {
     "name": "stdout",
     "output_type": "stream",
     "text": [
      "*       * \n",
      "* *     * \n",
      "*   *   * \n",
      "*     * * \n",
      "*       * \n"
     ]
    }
   ],
   "source": [
    "for i in range(5):\n",
    "  for j in range(5):\n",
    "    if j==0 or j==i or j==4:\n",
    "      print('*',end=' ')\n",
    "    else:\n",
    "      print(' ',end=' ')\n",
    "  print()"
   ]
  },
  {
   "cell_type": "code",
   "execution_count": 34,
   "id": "d37cd374",
   "metadata": {},
   "outputs": [
    {
     "name": "stdout",
     "output_type": "stream",
     "text": [
      " *** \n",
      "*   *\n",
      "*   *\n",
      "*****\n",
      "*   *\n",
      "*   *\n",
      "*   *\n"
     ]
    }
   ],
   "source": [
    "for row in range(7):\n",
    "  for col in range(5):\n",
    "    if ((col==0 or col==4) and row!=0) or ((row==0 or row==3) and (col>0 and col<4)):\n",
    "       print('*',end=\"\")\n",
    "    else:\n",
    "       print(end=\" \")\n",
    "  print() "
   ]
  },
  {
   "cell_type": "code",
   "execution_count": 43,
   "id": "ff73eeac",
   "metadata": {},
   "outputs": [
    {
     "name": "stdout",
     "output_type": "stream",
     "text": [
      "*****\n",
      "*   *\n",
      "*   *\n",
      "*****\n",
      "*   *\n",
      "*   *\n",
      "*****\n"
     ]
    }
   ],
   "source": [
    "for row in range(7):\n",
    " for col in range(5):\n",
    "    if (col==0 or col==4) or (row==0 or row==3 or row==6):\n",
    "       print('*',end=\"\")\n",
    "    else:\n",
    "      print(end=\" \")\n",
    " print()"
   ]
  },
  {
   "cell_type": "code",
   "execution_count": 44,
   "id": "ce507ef3",
   "metadata": {},
   "outputs": [
    {
     "name": "stdout",
     "output_type": "stream",
     "text": [
      "*****\n",
      "*    \n",
      "*    \n",
      "*    \n",
      "*    \n",
      "*    \n",
      "*****\n"
     ]
    }
   ],
   "source": [
    "for row in range(7):\n",
    " for col in range(5):\n",
    "    if (col==0 or row==0 or row==6):\n",
    "       print('*',end=\"\")\n",
    "    else:\n",
    "      print(end=\" \")\n",
    " print()"
   ]
  },
  {
   "cell_type": "code",
   "execution_count": 48,
   "id": "9885c638",
   "metadata": {},
   "outputs": [
    {
     "name": "stdout",
     "output_type": "stream",
     "text": [
      "**** \n",
      "*   *\n",
      "*   *\n",
      "*   *\n",
      "*   *\n",
      "*   *\n",
      "**** \n"
     ]
    }
   ],
   "source": [
    "for row in range(7):\n",
    " for col in range(5):\n",
    "    if (col==0) or (col==4 and (row!=0 and row!=6)) or ((row==0 or row==6) and (col<4)):\n",
    "      print(\"*\",end=\"\")\n",
    "    else:\n",
    "      print(end=\" \")\n",
    " print()         "
   ]
  },
  {
   "cell_type": "code",
   "execution_count": 53,
   "id": "1c5f5719",
   "metadata": {},
   "outputs": [
    {
     "name": "stdout",
     "output_type": "stream",
     "text": [
      "*****\n",
      "*    \n",
      "*    \n",
      "*****\n",
      "*    \n",
      "*    \n",
      "*****\n"
     ]
    }
   ],
   "source": [
    "for row in range(7):\n",
    " for col in range(5):\n",
    "    if (col==0 or row==0 or row==3 or row==6):\n",
    "      print(\"*\",end=\"\")\n",
    "    else:\n",
    "      print(end=\" \")\n",
    " print() "
   ]
  },
  {
   "cell_type": "code",
   "execution_count": 54,
   "id": "488d9d73",
   "metadata": {},
   "outputs": [
    {
     "name": "stdout",
     "output_type": "stream",
     "text": [
      "*****\n",
      "*    \n",
      "*    \n",
      "*****\n",
      "*    \n",
      "*    \n",
      "*    \n"
     ]
    }
   ],
   "source": [
    "for row in range(7):\n",
    " for col in range(5):\n",
    "    if(col==0 or row==0 or row==3):\n",
    "      print(\"*\",end=\"\")\n",
    "    else:\n",
    "      print(end=\" \")\n",
    " print()   \n",
    "             "
   ]
  },
  {
   "cell_type": "code",
   "execution_count": 78,
   "id": "aedc89f3",
   "metadata": {},
   "outputs": [
    {
     "ename": "IndentationError",
     "evalue": "unindent does not match any outer indentation level (<tokenize>, line 6)",
     "output_type": "error",
     "traceback": [
      "\u001b[1;36m  File \u001b[1;32m<tokenize>:6\u001b[1;36m\u001b[0m\n\u001b[1;33m    else:\u001b[0m\n\u001b[1;37m    ^\u001b[0m\n\u001b[1;31mIndentationError\u001b[0m\u001b[1;31m:\u001b[0m unindent does not match any outer indentation level\n"
     ]
    }
   ],
   "source": [
    "for row in range(7):\n",
    " for col in range(6):\n",
    "     if (col==0) or (col==4 and (row!=1 and row!=2)) or ((row=0 or row==6) and (col>0 and col<4)) \n",
    "         or (row==3 and (col==3 or col==5)):\n",
    "           print(\"*\",end=\"\")\n",
    "    else:\n",
    "     print(end=\" \")\n",
    " print()"
   ]
  },
  {
   "cell_type": "code",
   "execution_count": 72,
   "id": "6b50df0f",
   "metadata": {},
   "outputs": [
    {
     "name": "stdout",
     "output_type": "stream",
     "text": [
      "***** \n",
      "*     \n",
      "*     \n",
      "*  ***\n",
      "*   * \n",
      "*   * \n",
      "***** \n"
     ]
    }
   ],
   "source": [
    "for row in range(7):\n",
    "    for col in range(6):\n",
    "        if (col == 0) or (col == 4 and (row != 1 and row != 2)) or ((row == 0 or row == 6) and (col > 0 and col < 4)) or (row == 3 and (col == 3 or col == 5)):\n",
    "            print(\"*\", end=\"\")\n",
    "        else:\n",
    "            print(end=\" \")\n",
    "    print()"
   ]
  },
  {
   "cell_type": "code",
   "execution_count": 84,
   "id": "29d6089c",
   "metadata": {},
   "outputs": [
    {
     "name": "stdout",
     "output_type": "stream",
     "text": [
      "*   *\n",
      "*   *\n",
      "*   *\n",
      "*****\n",
      "*   *\n",
      "*   *\n",
      "*   *\n"
     ]
    }
   ],
   "source": [
    "for row in range(7):\n",
    " for col in range(5):\n",
    "    if (col==0 or col==4 or row==3):\n",
    "       print('*',end=\"\")\n",
    "    else:\n",
    "      print(end=\" \")\n",
    " print()    "
   ]
  },
  {
   "cell_type": "code",
   "execution_count": 85,
   "id": "aaf61687",
   "metadata": {},
   "outputs": [
    {
     "name": "stdout",
     "output_type": "stream",
     "text": [
      "*****\n",
      "  *  \n",
      "  *  \n",
      "  *  \n",
      "  *  \n",
      "  *  \n",
      "*****\n"
     ]
    }
   ],
   "source": [
    "for row in range(7):\n",
    " for col in range(5):\n",
    "    if (col==2 or row==0 or row==6):\n",
    "       print('*',end=\"\")\n",
    "    else:\n",
    "      print(end=\" \")\n",
    " print()"
   ]
  },
  {
   "cell_type": "code",
   "execution_count": 91,
   "id": "9621e0ce",
   "metadata": {},
   "outputs": [
    {
     "name": "stdout",
     "output_type": "stream",
     "text": [
      "*****\n",
      "  *  \n",
      "  *  \n",
      "  *  \n",
      "* *  \n",
      "* *  \n",
      "* *  \n"
     ]
    }
   ],
   "source": [
    "for row in range(7):\n",
    " for col in range(5):\n",
    "    if (col==2 or row==0) or (col==0 and row!=1 and row!=2 and row!=3) :\n",
    "       print('*',end=\"\")\n",
    "    else:\n",
    "      print(end=\" \")\n",
    " print()"
   ]
  },
  {
   "cell_type": "code",
   "execution_count": 102,
   "id": "e7011993",
   "metadata": {},
   "outputs": [
    {
     "name": "stdout",
     "output_type": "stream",
     "text": [
      "*    \n",
      "*    \n",
      "*    \n",
      "*    \n",
      "*    \n",
      "*    \n",
      "*****\n"
     ]
    }
   ],
   "source": [
    "for row in range(7):\n",
    " for col in range(5):\n",
    "    if (col==0 or row==6):\n",
    "       print('*',end=\"\")\n",
    "    else:\n",
    "      print(end=\" \")\n",
    " print()"
   ]
  },
  {
   "cell_type": "code",
   "execution_count": 113,
   "id": "81436409",
   "metadata": {},
   "outputs": [
    {
     "name": "stdout",
     "output_type": "stream",
     "text": [
      "*     *\n",
      "**   **\n",
      "* * * *\n",
      "*  *  *\n",
      "*     *\n",
      "*     *\n",
      "*     *\n"
     ]
    }
   ],
   "source": [
    "for row in range(7):\n",
    " for col in range(7):\n",
    "    if (col==0 or col==6) or ((row==col) and (col>0 and col<4)) or (row==1 and col==5) or (row==2 and col==4):\n",
    "      print('*',end=\"\")\n",
    "    else:\n",
    "      print(end=\" \")\n",
    " print()"
   ]
  },
  {
   "cell_type": "code",
   "execution_count": 130,
   "id": "6084c57e",
   "metadata": {},
   "outputs": [
    {
     "name": "stdout",
     "output_type": "stream",
     "text": [
      " *** \n",
      "*   *\n",
      "*   *\n",
      "*   *\n",
      "*   *\n",
      "*   *\n",
      " *** \n"
     ]
    }
   ],
   "source": [
    "for row in range(7):\n",
    "  for col in range(5):\n",
    "    if (col==0 or col==4) and (row!=0 and row!=6) or (row==0 or row==6) and (col>0 and col<4):\n",
    "      print(\"*\",end=\"\")\n",
    "    else:\n",
    "      print(end=\" \")\n",
    "  print()"
   ]
  },
  {
   "cell_type": "code",
   "execution_count": 141,
   "id": "7d1da168",
   "metadata": {},
   "outputs": [
    {
     "name": "stdout",
     "output_type": "stream",
     "text": [
      "*     *\n",
      "**    *\n",
      "* *   *\n",
      "*  *  *\n",
      "*   * *\n",
      "*    **\n"
     ]
    }
   ],
   "source": [
    "for row in range(6):\n",
    "  for col in range(7):\n",
    "    if (col==0 or col==6 or row==col):\n",
    "      print(\"*\",end=\"\")\n",
    "    else:\n",
    "      print(end=\" \")\n",
    "  print()"
   ]
  },
  {
   "cell_type": "code",
   "execution_count": 155,
   "id": "1cbc290b",
   "metadata": {},
   "outputs": [
    {
     "name": "stdout",
     "output_type": "stream",
     "text": [
      "**** \n",
      "*   *\n",
      "*   *\n",
      "**** \n",
      "*    \n",
      "*    \n",
      "*    \n"
     ]
    }
   ],
   "source": [
    "for row in range(7):\n",
    "  for col in range(5):\n",
    "    if (col==0) or (col==4 and (row==1 or row==2)) or (row==0 or row==3) and (col<4):\n",
    "      print(\"*\",end=\"\")\n",
    "    else:\n",
    "      print(end=\" \")\n",
    "  print()"
   ]
  },
  {
   "cell_type": "code",
   "execution_count": 163,
   "id": "30a7403e",
   "metadata": {},
   "outputs": [
    {
     "name": "stdout",
     "output_type": "stream",
     "text": [
      "**** \n",
      "*   *\n",
      "*   *\n",
      "**** \n",
      "*   *\n",
      "*   *\n",
      "*   *\n"
     ]
    }
   ],
   "source": [
    "for row in range(7):\n",
    "  for col in range(5):\n",
    "    if (col==0) or (col==4 and (row==1 or row==2)) or (row==0 or row==3) and (col<4) or (col==4 and (row==4 or row==5 or row==6)):\n",
    "      print(\"*\",end=\"\")\n",
    "    else:\n",
    "      print(end=\" \")\n",
    "  print()"
   ]
  },
  {
   "cell_type": "code",
   "execution_count": 168,
   "id": "88975cba",
   "metadata": {},
   "outputs": [
    {
     "name": "stdout",
     "output_type": "stream",
     "text": [
      " *** \n",
      "*    \n",
      "*    \n",
      " *** \n",
      "    *\n",
      "    *\n",
      " *** \n"
     ]
    }
   ],
   "source": [
    "for row in range(7):\n",
    "  for col in range(5):\n",
    "    if ((row==0 or row==3 or row==6) and (col>0 and col<4)) or (col==0 and (row>0 and row<3)) or (col==4 and (row>3 and row<6)): \n",
    "      print(\"*\",end=\"\")\n",
    "    else:\n",
    "      print(end=\" \")\n",
    "  print()"
   ]
  },
  {
   "cell_type": "code",
   "execution_count": 169,
   "id": "c6b7143e",
   "metadata": {},
   "outputs": [
    {
     "name": "stdout",
     "output_type": "stream",
     "text": [
      "*****\n",
      "  *  \n",
      "  *  \n",
      "  *  \n",
      "  *  \n",
      "  *  \n"
     ]
    }
   ],
   "source": [
    "for row in range(6):\n",
    "  for col in range(5):\n",
    "    if (row==0 or col==2):\n",
    "      print(\"*\",end=\"\")\n",
    "    else:\n",
    "      print(end=\" \")\n",
    "  print()"
   ]
  }
 ],
 "metadata": {
  "kernelspec": {
   "display_name": "Python 3 (ipykernel)",
   "language": "python",
   "name": "python3"
  },
  "language_info": {
   "codemirror_mode": {
    "name": "ipython",
    "version": 3
   },
   "file_extension": ".py",
   "mimetype": "text/x-python",
   "name": "python",
   "nbconvert_exporter": "python",
   "pygments_lexer": "ipython3",
   "version": "3.11.5"
  }
 },
 "nbformat": 4,
 "nbformat_minor": 5
}
