{
  "nbformat": 4,
  "nbformat_minor": 0,
  "metadata": {
    "colab": {
      "provenance": []
    },
    "kernelspec": {
      "name": "python3",
      "display_name": "Python 3"
    },
    "language_info": {
      "name": "python"
    }
  },
  "cells": [
    {
      "cell_type": "code",
      "execution_count": 3,
      "metadata": {
        "colab": {
          "base_uri": "https://localhost:8080/"
        },
        "id": "dmp1qo-HYNWo",
        "outputId": "5a300093-fb0a-4280-a523-5f474f98b0df"
      },
      "outputs": [
        {
          "output_type": "stream",
          "name": "stdout",
          "text": [
            "Enter any number: 8\n",
            "8\n",
            "16\n",
            "24\n",
            "32\n",
            "40\n",
            "48\n",
            "56\n",
            "64\n",
            "72\n",
            "80\n"
          ]
        }
      ],
      "source": [
        "n=int(input(\"Enter any number: \"))\n",
        "for i in range(1,11):\n",
        "  print(i*n)"
      ]
    },
    {
      "cell_type": "code",
      "source": [
        "for i in range(1,2000):\n",
        "  if i%5==0 and i%11==0:\n",
        "    print(i)"
      ],
      "metadata": {
        "colab": {
          "base_uri": "https://localhost:8080/"
        },
        "id": "FFpMvfxBZClM",
        "outputId": "6ed73a2b-6946-4da2-c958-9824e35d7b08"
      },
      "execution_count": 4,
      "outputs": [
        {
          "output_type": "stream",
          "name": "stdout",
          "text": [
            "55\n",
            "110\n",
            "165\n",
            "220\n",
            "275\n",
            "330\n",
            "385\n",
            "440\n",
            "495\n",
            "550\n",
            "605\n",
            "660\n",
            "715\n",
            "770\n",
            "825\n",
            "880\n",
            "935\n",
            "990\n",
            "1045\n",
            "1100\n",
            "1155\n",
            "1210\n",
            "1265\n",
            "1320\n",
            "1375\n",
            "1430\n",
            "1485\n",
            "1540\n",
            "1595\n",
            "1650\n",
            "1705\n",
            "1760\n",
            "1815\n",
            "1870\n",
            "1925\n",
            "1980\n"
          ]
        }
      ]
    },
    {
      "cell_type": "code",
      "source": [
        "for i in range(1,101):\n",
        "  print(f\"{i} = {i**2}\")"
      ],
      "metadata": {
        "colab": {
          "base_uri": "https://localhost:8080/"
        },
        "id": "6WnIlk9BaO4U",
        "outputId": "8971fd1d-2a52-405c-edd2-9348a3abefca"
      },
      "execution_count": 7,
      "outputs": [
        {
          "output_type": "stream",
          "name": "stdout",
          "text": [
            "1 = 1\n",
            "2 = 4\n",
            "3 = 9\n",
            "4 = 16\n",
            "5 = 25\n",
            "6 = 36\n",
            "7 = 49\n",
            "8 = 64\n",
            "9 = 81\n",
            "10 = 100\n",
            "11 = 121\n",
            "12 = 144\n",
            "13 = 169\n",
            "14 = 196\n",
            "15 = 225\n",
            "16 = 256\n",
            "17 = 289\n",
            "18 = 324\n",
            "19 = 361\n",
            "20 = 400\n",
            "21 = 441\n",
            "22 = 484\n",
            "23 = 529\n",
            "24 = 576\n",
            "25 = 625\n",
            "26 = 676\n",
            "27 = 729\n",
            "28 = 784\n",
            "29 = 841\n",
            "30 = 900\n",
            "31 = 961\n",
            "32 = 1024\n",
            "33 = 1089\n",
            "34 = 1156\n",
            "35 = 1225\n",
            "36 = 1296\n",
            "37 = 1369\n",
            "38 = 1444\n",
            "39 = 1521\n",
            "40 = 1600\n",
            "41 = 1681\n",
            "42 = 1764\n",
            "43 = 1849\n",
            "44 = 1936\n",
            "45 = 2025\n",
            "46 = 2116\n",
            "47 = 2209\n",
            "48 = 2304\n",
            "49 = 2401\n",
            "50 = 2500\n",
            "51 = 2601\n",
            "52 = 2704\n",
            "53 = 2809\n",
            "54 = 2916\n",
            "55 = 3025\n",
            "56 = 3136\n",
            "57 = 3249\n",
            "58 = 3364\n",
            "59 = 3481\n",
            "60 = 3600\n",
            "61 = 3721\n",
            "62 = 3844\n",
            "63 = 3969\n",
            "64 = 4096\n",
            "65 = 4225\n",
            "66 = 4356\n",
            "67 = 4489\n",
            "68 = 4624\n",
            "69 = 4761\n",
            "70 = 4900\n",
            "71 = 5041\n",
            "72 = 5184\n",
            "73 = 5329\n",
            "74 = 5476\n",
            "75 = 5625\n",
            "76 = 5776\n",
            "77 = 5929\n",
            "78 = 6084\n",
            "79 = 6241\n",
            "80 = 6400\n",
            "81 = 6561\n",
            "82 = 6724\n",
            "83 = 6889\n",
            "84 = 7056\n",
            "85 = 7225\n",
            "86 = 7396\n",
            "87 = 7569\n",
            "88 = 7744\n",
            "89 = 7921\n",
            "90 = 8100\n",
            "91 = 8281\n",
            "92 = 8464\n",
            "93 = 8649\n",
            "94 = 8836\n",
            "95 = 9025\n",
            "96 = 9216\n",
            "97 = 9409\n",
            "98 = 9604\n",
            "99 = 9801\n",
            "100 = 10000\n"
          ]
        }
      ]
    },
    {
      "cell_type": "code",
      "source": [
        "for i in range(1,11):\n",
        "  print(\"*\"*i)"
      ],
      "metadata": {
        "colab": {
          "base_uri": "https://localhost:8080/"
        },
        "id": "LNbKIVgLbCg3",
        "outputId": "c26144b3-4d7a-4fbf-f4f9-6fab8a5b28ae"
      },
      "execution_count": 8,
      "outputs": [
        {
          "output_type": "stream",
          "name": "stdout",
          "text": [
            "*\n",
            "**\n",
            "***\n",
            "****\n",
            "*****\n",
            "******\n",
            "*******\n",
            "********\n",
            "*********\n",
            "**********\n"
          ]
        }
      ]
    },
    {
      "cell_type": "code",
      "source": [
        "for i in range(10,0,-1):\n",
        "  print(\"*\"*i)"
      ],
      "metadata": {
        "colab": {
          "base_uri": "https://localhost:8080/"
        },
        "id": "lhpKvn6icNxp",
        "outputId": "55a4a13c-ac93-4c6a-8f6d-ff7eaea0ce79"
      },
      "execution_count": 9,
      "outputs": [
        {
          "output_type": "stream",
          "name": "stdout",
          "text": [
            "**********\n",
            "*********\n",
            "********\n",
            "*******\n",
            "******\n",
            "*****\n",
            "****\n",
            "***\n",
            "**\n",
            "*\n"
          ]
        }
      ]
    },
    {
      "cell_type": "code",
      "source": [
        "for i in range(1,8):\n",
        "  print(' '*(8-i)+\"*\"*i)"
      ],
      "metadata": {
        "colab": {
          "base_uri": "https://localhost:8080/"
        },
        "id": "W_X6NTLmceUE",
        "outputId": "cd6ff2aa-9201-43a3-9bbd-b921cfb09246"
      },
      "execution_count": 10,
      "outputs": [
        {
          "output_type": "stream",
          "name": "stdout",
          "text": [
            "       *\n",
            "      **\n",
            "     ***\n",
            "    ****\n",
            "   *****\n",
            "  ******\n",
            " *******\n"
          ]
        }
      ]
    },
    {
      "cell_type": "code",
      "source": [
        "for i in range(8,0,-1):\n",
        "  print(' '*(8-i)+'*'*i)"
      ],
      "metadata": {
        "colab": {
          "base_uri": "https://localhost:8080/"
        },
        "id": "eANFYhdvdd_K",
        "outputId": "896cb16d-abbe-4166-f3fd-a9ac90d7d8f9"
      },
      "execution_count": 11,
      "outputs": [
        {
          "output_type": "stream",
          "name": "stdout",
          "text": [
            "********\n",
            " *******\n",
            "  ******\n",
            "   *****\n",
            "    ****\n",
            "     ***\n",
            "      **\n",
            "       *\n"
          ]
        }
      ]
    },
    {
      "cell_type": "code",
      "source": [
        "for i in range(1,7):\n",
        "  print(' '*(6-i)+'* '*i)"
      ],
      "metadata": {
        "colab": {
          "base_uri": "https://localhost:8080/"
        },
        "id": "oMLZbi8Xd2Qw",
        "outputId": "e532e593-9151-4364-b388-7e80b4758531"
      },
      "execution_count": 12,
      "outputs": [
        {
          "output_type": "stream",
          "name": "stdout",
          "text": [
            "     * \n",
            "    * * \n",
            "   * * * \n",
            "  * * * * \n",
            " * * * * * \n",
            "* * * * * * \n"
          ]
        }
      ]
    },
    {
      "cell_type": "code",
      "source": [],
      "metadata": {
        "id": "yXxV0vO1gYOE"
      },
      "execution_count": null,
      "outputs": []
    }
  ]
}