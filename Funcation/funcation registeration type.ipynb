{
  "nbformat": 4,
  "nbformat_minor": 0,
  "metadata": {
    "colab": {
      "provenance": []
    },
    "kernelspec": {
      "name": "python3",
      "display_name": "Python 3"
    },
    "language_info": {
      "name": "python"
    }
  },
  "cells": [
    {
      "cell_type": "code",
      "execution_count": 1,
      "metadata": {
        "id": "KXpWSinia6dc"
      },
      "outputs": [],
      "source": [
        "#app\n",
        "#login , registration"
      ]
    },
    {
      "cell_type": "code",
      "source": [
        "# OTP Function"
      ],
      "metadata": {
        "id": "2y_NRNYIbjjZ"
      },
      "execution_count": 2,
      "outputs": []
    },
    {
      "cell_type": "code",
      "source": [
        "import random\n",
        "print(dir(random))"
      ],
      "metadata": {
        "colab": {
          "base_uri": "https://localhost:8080/"
        },
        "id": "Dphn6yQ8bzc9",
        "outputId": "0daf4e32-3186-47bb-91bc-5035da547673"
      },
      "execution_count": 3,
      "outputs": [
        {
          "output_type": "stream",
          "name": "stdout",
          "text": [
            "['BPF', 'LOG4', 'NV_MAGICCONST', 'RECIP_BPF', 'Random', 'SG_MAGICCONST', 'SystemRandom', 'TWOPI', '_ONE', '_Sequence', '_Set', '__all__', '__builtins__', '__cached__', '__doc__', '__file__', '__loader__', '__name__', '__package__', '__spec__', '_accumulate', '_acos', '_bisect', '_ceil', '_cos', '_e', '_exp', '_floor', '_index', '_inst', '_isfinite', '_log', '_os', '_pi', '_random', '_repeat', '_sha512', '_sin', '_sqrt', '_test', '_test_generator', '_urandom', '_warn', 'betavariate', 'choice', 'choices', 'expovariate', 'gammavariate', 'gauss', 'getrandbits', 'getstate', 'lognormvariate', 'normalvariate', 'paretovariate', 'randbytes', 'randint', 'random', 'randrange', 'sample', 'seed', 'setstate', 'shuffle', 'triangular', 'uniform', 'vonmisesvariate', 'weibullvariate']\n"
          ]
        }
      ]
    },
    {
      "cell_type": "code",
      "source": [
        "random.randint(1,20)"
      ],
      "metadata": {
        "colab": {
          "base_uri": "https://localhost:8080/"
        },
        "id": "SvtHWcAOb8s1",
        "outputId": "664a62e7-b050-4738-fcdc-645e988df98b"
      },
      "execution_count": 7,
      "outputs": [
        {
          "output_type": "execute_result",
          "data": {
            "text/plain": [
              "18"
            ]
          },
          "metadata": {},
          "execution_count": 7
        }
      ]
    },
    {
      "cell_type": "code",
      "source": [
        "random.random()"
      ],
      "metadata": {
        "colab": {
          "base_uri": "https://localhost:8080/"
        },
        "id": "kK6dPnIQcI4E",
        "outputId": "6d65f944-72a2-4e19-ab17-ef02d1fc0a64"
      },
      "execution_count": 9,
      "outputs": [
        {
          "output_type": "execute_result",
          "data": {
            "text/plain": [
              "0.815996418084087"
            ]
          },
          "metadata": {},
          "execution_count": 9
        }
      ]
    },
    {
      "cell_type": "code",
      "source": [
        "r=['hey','manish',10,'jeet']"
      ],
      "metadata": {
        "id": "kW4lDw_BcP8W"
      },
      "execution_count": 10,
      "outputs": []
    },
    {
      "cell_type": "code",
      "source": [
        "random.choice(r)"
      ],
      "metadata": {
        "colab": {
          "base_uri": "https://localhost:8080/",
          "height": 36
        },
        "id": "k552ZOQLcWSV",
        "outputId": "800b9694-3144-4739-e0bf-bad84d4c4de1"
      },
      "execution_count": 13,
      "outputs": [
        {
          "output_type": "execute_result",
          "data": {
            "text/plain": [
              "'jeet'"
            ],
            "application/vnd.google.colaboratory.intrinsic+json": {
              "type": "string"
            }
          },
          "metadata": {},
          "execution_count": 13
        }
      ]
    },
    {
      "cell_type": "code",
      "source": [
        "def OTP():\n",
        "  import random\n",
        "  otp=''\n",
        "  for i in range(6):\n",
        "    otp+=str(random.randint(0,9))\n",
        "  return otp"
      ],
      "metadata": {
        "id": "xRJYbKxwcY-K"
      },
      "execution_count": 16,
      "outputs": []
    },
    {
      "cell_type": "code",
      "source": [
        "data={}"
      ],
      "metadata": {
        "id": "GQcC-q3bdHbM"
      },
      "execution_count": 27,
      "outputs": []
    },
    {
      "cell_type": "code",
      "source": [
        "def register():\n",
        "  from getpass import getpass\n",
        "  print(\"*\"*100)\n",
        "  print(\"*\"*100)\n",
        "  print('Hello welcome to first Application'.center(100))\n",
        "  print(\"*\"*100)\n",
        "  print(\"*\"*100)\n",
        "  print()\n",
        "  Name=input(\"Enter your name :\")\n",
        "  Email=input('Enter Email: ')\n",
        "  password= getpass(\"Enter password\")\n",
        "  phone=input(\"phone: \")\n",
        "  data[Email]={\"name\":Name,\"email\":Email,'pass':password,\"phone\":phone}\n",
        "\n",
        "  print('Registration succesfully Done !!')\n"
      ],
      "metadata": {
        "id": "nBNLH2ledIy3"
      },
      "execution_count": 28,
      "outputs": []
    },
    {
      "cell_type": "code",
      "source": [
        "register()"
      ],
      "metadata": {
        "colab": {
          "base_uri": "https://localhost:8080/"
        },
        "id": "W2fJuXPLd-4n",
        "outputId": "e42e83cb-ede7-40d1-a61c-c4dd71ca857f"
      },
      "execution_count": 29,
      "outputs": [
        {
          "output_type": "stream",
          "name": "stdout",
          "text": [
            "****************************************************************************************************\n",
            "****************************************************************************************************\n",
            "                                 Hello welcome to first Application                                 \n",
            "****************************************************************************************************\n",
            "****************************************************************************************************\n",
            "\n",
            "Enter your name :manish\n",
            "Enter Email: rmanish911@gmail.com\n",
            "Enter password··········\n",
            "phone: 9166319212\n",
            "Registration succesfully Done !!\n"
          ]
        }
      ]
    },
    {
      "cell_type": "code",
      "source": [
        "print(data)"
      ],
      "metadata": {
        "colab": {
          "base_uri": "https://localhost:8080/"
        },
        "id": "Dsy2YSLZeBp7",
        "outputId": "ec4ecdc2-f1e3-417c-fb78-098182c41230"
      },
      "execution_count": 31,
      "outputs": [
        {
          "output_type": "stream",
          "name": "stdout",
          "text": [
            "{'rmanish911@gmail.com': {'name': 'manish', 'email': 'rmanish911@gmail.com', 'pass': 'mann911', 'phone': '9166319212'}}\n"
          ]
        }
      ]
    },
    {
      "cell_type": "code",
      "source": [
        "def Login():\n",
        "  from getpass import getpass\n",
        "  from time import sleep\n",
        "  UsrName = input('Enter username: ')\n",
        "  pas=getpass(\"Enter password: \")\n",
        "  if UsrName in data.keys():\n",
        "    if data[UsrName]['pass']==pas:\n",
        "      print('Login successfull')\n",
        "    else:\n",
        "      print('password mismatch')\n",
        "      sleep(5)\n",
        "      Login()\n",
        "  else:\n",
        "    print('user not found please register first')\n",
        "    print('......redirecting to registration......')\n",
        "    sleep(5)\n",
        "    register()\n",
        "\n",
        "\n"
      ],
      "metadata": {
        "id": "e_10yd3Ufb1T"
      },
      "execution_count": 32,
      "outputs": []
    },
    {
      "cell_type": "code",
      "source": [
        "Login()"
      ],
      "metadata": {
        "colab": {
          "base_uri": "https://localhost:8080/"
        },
        "id": "pmY7XKZzgtZA",
        "outputId": "fdcc22e4-ee25-4296-d4a9-ba99f685ca46"
      },
      "execution_count": 41,
      "outputs": [
        {
          "output_type": "stream",
          "name": "stdout",
          "text": [
            "Enter username: jeet@gmail.com\n",
            "Enter password: ··········\n",
            "password mismatch\n"
          ]
        }
      ]
    },
    {
      "cell_type": "code",
      "source": [
        "Login()"
      ],
      "metadata": {
        "colab": {
          "base_uri": "https://localhost:8080/"
        },
        "id": "WOvS2t2Hguqm",
        "outputId": "a4b848ed-b9f4-48d4-e51e-bfb8a7879685"
      },
      "execution_count": 34,
      "outputs": [
        {
          "output_type": "stream",
          "name": "stdout",
          "text": [
            "Enter username: rmanish911\n",
            "Enter password: ··········\n",
            "user not found please register first\n",
            "......redirecting to registration......\n",
            "****************************************************************************************************\n",
            "****************************************************************************************************\n",
            "                                 Hello welcome to first Application                                 \n",
            "****************************************************************************************************\n",
            "****************************************************************************************************\n",
            "\n",
            "Enter your name :jeet\n",
            "Enter Email: jeet@gmail.com\n",
            "Enter password··········\n",
            "phone: 778786878\n",
            "Registration succesfully Done !!\n"
          ]
        }
      ]
    },
    {
      "cell_type": "code",
      "source": [
        "Login()"
      ],
      "metadata": {
        "colab": {
          "base_uri": "https://localhost:8080/"
        },
        "id": "CpSfXDqjg3yE",
        "outputId": "27f18c3b-395b-44cb-d5b4-68fe9bb977a4"
      },
      "execution_count": 35,
      "outputs": [
        {
          "output_type": "stream",
          "name": "stdout",
          "text": [
            "Enter username: jeet@gmail.com\n",
            "Enter password: ··········\n",
            "Login successfull\n"
          ]
        }
      ]
    },
    {
      "cell_type": "code",
      "source": [
        "data"
      ],
      "metadata": {
        "colab": {
          "base_uri": "https://localhost:8080/"
        },
        "id": "dmlZpu9qhL81",
        "outputId": "16344604-34f1-44df-c052-7cb6ca18689c"
      },
      "execution_count": 37,
      "outputs": [
        {
          "output_type": "execute_result",
          "data": {
            "text/plain": [
              "{'rmanish911@gmail.com': {'name': 'manish',\n",
              "  'email': 'rmanish911@gmail.com',\n",
              "  'pass': 'mann911',\n",
              "  'phone': '9166319212'},\n",
              " 'jeet@gmail.com': {'name': 'jeet',\n",
              "  'email': 'jeet@gmail.com',\n",
              "  'pass': 'jeet',\n",
              "  'phone': '778786878'}}"
            ]
          },
          "metadata": {},
          "execution_count": 37
        }
      ]
    },
    {
      "cell_type": "code",
      "source": [
        "data['jeet@gmail.com']['pass']"
      ],
      "metadata": {
        "colab": {
          "base_uri": "https://localhost:8080/",
          "height": 36
        },
        "id": "3-hri_AohRs1",
        "outputId": "a455875c-a48b-47ea-bc2d-dda9d7e8a2ee"
      },
      "execution_count": 39,
      "outputs": [
        {
          "output_type": "execute_result",
          "data": {
            "text/plain": [
              "'jeet'"
            ],
            "application/vnd.google.colaboratory.intrinsic+json": {
              "type": "string"
            }
          },
          "metadata": {},
          "execution_count": 39
        }
      ]
    },
    {
      "cell_type": "code",
      "source": [
        "data.keys()"
      ],
      "metadata": {
        "colab": {
          "base_uri": "https://localhost:8080/"
        },
        "id": "1BIvUxH8hhjo",
        "outputId": "e13d5e44-3e4e-4d64-ebdd-4fc946683a9e"
      },
      "execution_count": 40,
      "outputs": [
        {
          "output_type": "execute_result",
          "data": {
            "text/plain": [
              "dict_keys(['rmanish911@gmail.com', 'jeet@gmail.com'])"
            ]
          },
          "metadata": {},
          "execution_count": 40
        }
      ]
    },
    {
      "cell_type": "code",
      "source": [
        "import random"
      ],
      "metadata": {
        "id": "p4F3i7x8h0IV"
      },
      "execution_count": 42,
      "outputs": []
    },
    {
      "cell_type": "code",
      "source": [
        "from random import randint"
      ],
      "metadata": {
        "id": "HI89Hlcei5E_"
      },
      "execution_count": 43,
      "outputs": []
    },
    {
      "cell_type": "code",
      "source": [
        "randint(0,10)"
      ],
      "metadata": {
        "colab": {
          "base_uri": "https://localhost:8080/"
        },
        "id": "zut9Qre5jCVc",
        "outputId": "95aac7c5-3a5f-484a-98ae-8c83d44b3e70"
      },
      "execution_count": 45,
      "outputs": [
        {
          "output_type": "execute_result",
          "data": {
            "text/plain": [
              "5"
            ]
          },
          "metadata": {},
          "execution_count": 45
        }
      ]
    },
    {
      "cell_type": "code",
      "source": [],
      "metadata": {
        "id": "Wh_y_LhIjE79"
      },
      "execution_count": null,
      "outputs": []
    }
  ]
}