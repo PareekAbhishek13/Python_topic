{
  "nbformat": 4,
  "nbformat_minor": 0,
  "metadata": {
    "colab": {
      "provenance": []
    },
    "kernelspec": {
      "name": "python3",
      "display_name": "Python 3"
    },
    "language_info": {
      "name": "python"
    }
  },
  "cells": [
    {
      "cell_type": "code",
      "execution_count": null,
      "metadata": {
        "id": "byDPXY39TW9d"
      },
      "outputs": [],
      "source": [
        "def Function_name(parameters):\n",
        "  block of code (function body)\n",
        "  return statement\n",
        "\n",
        "function_calling\n",
        "\n"
      ]
    },
    {
      "cell_type": "code",
      "source": [
        "def wish():\n",
        "  o=\"hello good morning\"\n",
        "  return o\n",
        ""
      ],
      "metadata": {
        "id": "mL-4xkFFT33l"
      },
      "execution_count": 1,
      "outputs": []
    },
    {
      "cell_type": "code",
      "source": [
        "wish()   ## calling"
      ],
      "metadata": {
        "colab": {
          "base_uri": "https://localhost:8080/",
          "height": 36
        },
        "id": "5rZIz9prUGaS",
        "outputId": "90482fe1-f573-4f28-9428-a772f088fba5"
      },
      "execution_count": 2,
      "outputs": [
        {
          "output_type": "execute_result",
          "data": {
            "text/plain": [
              "'hello good morning'"
            ],
            "application/vnd.google.colaboratory.intrinsic+json": {
              "type": "string"
            }
          },
          "metadata": {},
          "execution_count": 2
        }
      ]
    },
    {
      "cell_type": "code",
      "source": [
        "wish()"
      ],
      "metadata": {
        "colab": {
          "base_uri": "https://localhost:8080/",
          "height": 36
        },
        "id": "hxGj0hCEURBr",
        "outputId": "01973176-75be-4adc-b373-0b3bc0b4ec13"
      },
      "execution_count": 3,
      "outputs": [
        {
          "output_type": "execute_result",
          "data": {
            "text/plain": [
              "'hello good morning'"
            ],
            "application/vnd.google.colaboratory.intrinsic+json": {
              "type": "string"
            }
          },
          "metadata": {},
          "execution_count": 3
        }
      ]
    },
    {
      "cell_type": "code",
      "source": [
        "def addition():\n",
        "  a=10\n",
        "  b=20\n",
        "  c=a+b\n",
        "  return c"
      ],
      "metadata": {
        "id": "Z9HRru7FUT4T"
      },
      "execution_count": 4,
      "outputs": []
    },
    {
      "cell_type": "code",
      "source": [
        "def addition1():\n",
        "  a=10\n",
        "  b=20\n",
        "  c=a+b\n",
        "  print(c)"
      ],
      "metadata": {
        "id": "SFfS-7f5Uh8A"
      },
      "execution_count": 5,
      "outputs": []
    },
    {
      "cell_type": "code",
      "source": [
        "add1=addition()\n",
        "add2=addition1()"
      ],
      "metadata": {
        "colab": {
          "base_uri": "https://localhost:8080/"
        },
        "id": "YOjofL6lUneg",
        "outputId": "6023a23e-a2dc-482c-8f1e-873792f00225"
      },
      "execution_count": 6,
      "outputs": [
        {
          "output_type": "stream",
          "name": "stdout",
          "text": [
            "30\n"
          ]
        }
      ]
    },
    {
      "cell_type": "code",
      "source": [
        "add1"
      ],
      "metadata": {
        "colab": {
          "base_uri": "https://localhost:8080/"
        },
        "id": "FZnFrLrHUvCu",
        "outputId": "831ceb93-7668-4f5b-c738-49a23d8b2884"
      },
      "execution_count": 7,
      "outputs": [
        {
          "output_type": "execute_result",
          "data": {
            "text/plain": [
              "30"
            ]
          },
          "metadata": {},
          "execution_count": 7
        }
      ]
    },
    {
      "cell_type": "code",
      "source": [
        "add2"
      ],
      "metadata": {
        "id": "JY5PhLkxUwSZ"
      },
      "execution_count": 8,
      "outputs": []
    },
    {
      "cell_type": "code",
      "source": [
        "#positional agruments\n",
        "#default agr\n",
        "#keyword arguement"
      ],
      "metadata": {
        "id": "87mVYYelUxW9"
      },
      "execution_count": 9,
      "outputs": []
    },
    {
      "cell_type": "code",
      "source": [
        "def add(a,b): # here a & b positional argument\n",
        "  print(\"a= \",a)\n",
        "  print('b= ',b)\n",
        "  return a+b"
      ],
      "metadata": {
        "id": "bCL7oMjnWQfX"
      },
      "execution_count": 10,
      "outputs": []
    },
    {
      "cell_type": "code",
      "source": [
        "add(20,25)"
      ],
      "metadata": {
        "colab": {
          "base_uri": "https://localhost:8080/"
        },
        "id": "dv_8e9FmWZm_",
        "outputId": "1202ffae-0f35-4a30-a52f-37e0f0a04d25"
      },
      "execution_count": 15,
      "outputs": [
        {
          "output_type": "stream",
          "name": "stdout",
          "text": [
            "a=  20\n",
            "b=  25\n"
          ]
        },
        {
          "output_type": "execute_result",
          "data": {
            "text/plain": [
              "45"
            ]
          },
          "metadata": {},
          "execution_count": 15
        }
      ]
    },
    {
      "cell_type": "code",
      "source": [
        "def mul(a=0 , b=2):   # here a & b are default argument\n",
        "  print(\"a=\",a)\n",
        "  print(\"b=\",b)\n",
        "  return a*b"
      ],
      "metadata": {
        "id": "JI6YCKwfWi72"
      },
      "execution_count": 16,
      "outputs": []
    },
    {
      "cell_type": "code",
      "source": [
        "mul(a=20)  # user"
      ],
      "metadata": {
        "colab": {
          "base_uri": "https://localhost:8080/"
        },
        "id": "2W3SwAdTXNTW",
        "outputId": "099ec9ae-bc07-4e75-8a21-b25826431df9"
      },
      "execution_count": 23,
      "outputs": [
        {
          "output_type": "stream",
          "name": "stdout",
          "text": [
            "a= 20\n",
            "b= 2\n"
          ]
        },
        {
          "output_type": "execute_result",
          "data": {
            "text/plain": [
              "40"
            ]
          },
          "metadata": {},
          "execution_count": 23
        }
      ]
    },
    {
      "cell_type": "code",
      "source": [
        "def Fun(*arg):   # iterator\n",
        "  add=0\n",
        "  for i in arg:\n",
        "    add+=i\n",
        "  return add\n"
      ],
      "metadata": {
        "id": "y2PNEKP-XVu1"
      },
      "execution_count": 27,
      "outputs": []
    },
    {
      "cell_type": "code",
      "source": [
        "Fun(1,2,3,4,100,200)"
      ],
      "metadata": {
        "colab": {
          "base_uri": "https://localhost:8080/"
        },
        "id": "-zhhA5ApYzPH",
        "outputId": "76316473-404b-40cf-d3b6-9af9a4a229cd"
      },
      "execution_count": 28,
      "outputs": [
        {
          "output_type": "execute_result",
          "data": {
            "text/plain": [
              "310"
            ]
          },
          "metadata": {},
          "execution_count": 28
        }
      ]
    },
    {
      "cell_type": "code",
      "source": [],
      "metadata": {
        "id": "YqX-mTdzY5zA"
      },
      "execution_count": null,
      "outputs": []
    }
  ]
}