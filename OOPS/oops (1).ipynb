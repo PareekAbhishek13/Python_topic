{
  "nbformat": 4,
  "nbformat_minor": 0,
  "metadata": {
    "colab": {
      "provenance": []
    },
    "kernelspec": {
      "name": "python3",
      "display_name": "Python 3"
    },
    "language_info": {
      "name": "python"
    }
  },
  "cells": [
    {
      "cell_type": "code",
      "execution_count": null,
      "metadata": {
        "colab": {
          "base_uri": "https://localhost:8080/"
        },
        "id": "V9LV6GVo2ZlA",
        "outputId": "b41ae1eb-76e9-480a-bf90-146c3b3d9cd6"
      },
      "outputs": [
        {
          "output_type": "stream",
          "name": "stdout",
          "text": [
            " developed by Mohit SIR\n"
          ]
        }
      ],
      "source": [
        "class Student:\n",
        "  \"\"\" developed by Mohit SIR\"\"\"\n",
        "print(Student.__doc__)"
      ]
    },
    {
      "cell_type": "code",
      "source": [
        "help(Student)"
      ],
      "metadata": {
        "colab": {
          "base_uri": "https://localhost:8080/"
        },
        "id": "AmMjEPt626Yn",
        "outputId": "32a593fd-ed6b-4e6e-d87a-4837bebd00c6"
      },
      "execution_count": null,
      "outputs": [
        {
          "output_type": "stream",
          "name": "stdout",
          "text": [
            "Help on class Student in module __main__:\n",
            "\n",
            "class Student(builtins.object)\n",
            " |  developed by Mohit SIR\n",
            " |  \n",
            " |  Data descriptors defined here:\n",
            " |  \n",
            " |  __dict__\n",
            " |      dictionary for instance variables (if defined)\n",
            " |  \n",
            " |  __weakref__\n",
            " |      list of weak references to the object (if defined)\n",
            "\n"
          ]
        }
      ]
    },
    {
      "cell_type": "code",
      "source": [
        "#from os import name\n",
        "count =0\n",
        "class Student:\n",
        "  \"\"\" developed by Mohit SIR\"\"\"\n",
        "  def __init__(self):\n",
        "    self.name= \"Mohit\"\n",
        "    self.age = 21221\n",
        "    self.marks = 8\n",
        "    global count\n",
        "    count += 1\n",
        "\n",
        "  def talk(self):\n",
        "    print(\"Hello my name is\", self.name)\n",
        "    print(\"Hello my age is\", self.age)\n",
        "    print(\"Hello my marks is\", self.marks)\n",
        "\n",
        "#s1 = Student()\n",
        "#s1.talk()"
      ],
      "metadata": {
        "id": "e4xEao-c29hR"
      },
      "execution_count": null,
      "outputs": []
    },
    {
      "cell_type": "code",
      "source": [
        "# 3 type of variables are allowed\n",
        "# Instance variable (Object level variables)\n",
        "# static variable (class level variables)\n",
        "# Local variables (method level variable)\n",
        "\n",
        "# method\n",
        "# instance method\n",
        "# class method\n",
        "# static methods"
      ],
      "metadata": {
        "id": "bfS4UTS04wFR"
      },
      "execution_count": null,
      "outputs": []
    },
    {
      "cell_type": "code",
      "source": [
        "# class => it is a blueprint or model or plan used to create object. Imaginary thing\n",
        "\n",
        "# object => instance of a class. instance var or reference variable. Real world entity\n",
        "\n",
        "# referencevariable = classname()\n",
        "\n",
        "# Example =>\n",
        "s1 = Student()\n",
        "s2 = Student()\n",
        "s3 = Student()\n",
        "s1.talk()\n",
        "s2.talk()\n",
        "s3.talk()\n",
        "count\n"
      ],
      "metadata": {
        "colab": {
          "base_uri": "https://localhost:8080/"
        },
        "id": "KGm43xxAFMHb",
        "outputId": "8e42f024-0add-426a-ab32-71b96fda1433"
      },
      "execution_count": null,
      "outputs": [
        {
          "output_type": "stream",
          "name": "stdout",
          "text": [
            "Hello my name is Mohit\n",
            "Hello my age is 21221\n",
            "Hello my marks is 8\n",
            "Hello my name is Mohit\n",
            "Hello my age is 21221\n",
            "Hello my marks is 8\n",
            "Hello my name is Mohit\n",
            "Hello my age is 21221\n",
            "Hello my marks is 8\n"
          ]
        },
        {
          "output_type": "execute_result",
          "data": {
            "text/plain": [
              "3"
            ]
          },
          "metadata": {},
          "execution_count": 5
        }
      ]
    },
    {
      "cell_type": "code",
      "source": [
        "# WAP to demonstrate constructor will execute only once per object.\n",
        "class Student1:\n",
        "  \"\"\" developed by Mohit SIR\"\"\"\n",
        "  def __init__(self):\n",
        "    print(\"constructor called\")\n",
        "\n",
        "  def talk(self):\n",
        "    print(\"Hello my name is Mohit\")\n",
        "\n",
        "s1 = Student1()\n",
        "s2 = Student1()\n",
        "s3 = Student1()\n",
        "s1.talk()\n",
        "s2.talk()\n"
      ],
      "metadata": {
        "colab": {
          "base_uri": "https://localhost:8080/"
        },
        "id": "jrjwd40gIN03",
        "outputId": "1cbd3fa7-6c23-485f-a059-4d86e2aca940"
      },
      "execution_count": null,
      "outputs": [
        {
          "output_type": "stream",
          "name": "stdout",
          "text": [
            "constructor called\n",
            "constructor called\n",
            "constructor called\n",
            "Hello my name is Mohit\n",
            "Hello my name is Mohit\n"
          ]
        }
      ]
    },
    {
      "cell_type": "code",
      "source": [
        "class Student2:\n",
        "  \"\"\" developed by Mohit SIR\"\"\"\n",
        "  def __init__(self,x,y):\n",
        "    self.name = x\n",
        "    self.age  = y\n",
        "\n",
        "  def display(self):\n",
        "    print(\"Student name:{}\\nAge:{}\".format(self.name,self.age))\n",
        "\n",
        "s1 = Student2(\"Akhil\", 23)\n",
        "s2 = Student2(\"Rahil\", 18)\n",
        "s1.display()\n",
        "s2.display()\n"
      ],
      "metadata": {
        "colab": {
          "base_uri": "https://localhost:8080/"
        },
        "id": "Jvs0KGYqKPLN",
        "outputId": "c9f18aa1-859b-4757-db02-9a2b4163dacc"
      },
      "execution_count": null,
      "outputs": [
        {
          "output_type": "stream",
          "name": "stdout",
          "text": [
            "Student name:Akhil\n",
            "Age:23\n",
            "Student name:Rahil\n",
            "Age:18\n"
          ]
        }
      ]
    },
    {
      "cell_type": "markdown",
      "source": [
        "# 3 type of variables are allowed\n",
        "- Instance variable (Object level variables)\n",
        "      If a value of a variable is varied from object to object.\n",
        "      It is known as instance variable.\n"
      ],
      "metadata": {
        "id": "7XkRe94GNCla"
      }
    },
    {
      "cell_type": "code",
      "source": [
        "# Instance variable=> inside constructor by using self variable.\n",
        "\n",
        "class Employee:\n",
        "\n",
        "  def __init__(self):\n",
        "    self.eno = 100\n",
        "    self.ename = \"rahil\"\n",
        "    self.esal = 100000\n",
        "\n",
        "e = Employee()\n",
        "print(e.__dict__) # convert values to dictionary\n"
      ],
      "metadata": {
        "colab": {
          "base_uri": "https://localhost:8080/"
        },
        "id": "CkD-GJPCNCRC",
        "outputId": "7b80e6ce-99da-4962-cebd-ea204f39b562"
      },
      "execution_count": null,
      "outputs": [
        {
          "output_type": "stream",
          "name": "stdout",
          "text": [
            "{'eno': 100, 'ename': 'rahil', 'esal': 100000}\n"
          ]
        }
      ]
    },
    {
      "cell_type": "code",
      "source": [
        "# Instance variable=> inside method by using self variable.\n",
        "class Test:\n",
        "\n",
        "  def __init__(self):\n",
        "    self.a = 100\n",
        "    self.b = \"rahil\"\n",
        "\n",
        "  def m1(self):\n",
        "    self.c =30\n",
        "\n",
        "t = Test()\n",
        "t.m1()\n",
        "print(t.__dict__)"
      ],
      "metadata": {
        "colab": {
          "base_uri": "https://localhost:8080/"
        },
        "id": "4Iga7qCnL2F0",
        "outputId": "527945e5-c473-4b5d-9eb0-51c522588f1b"
      },
      "execution_count": null,
      "outputs": [
        {
          "output_type": "stream",
          "name": "stdout",
          "text": [
            "{'a': 100, 'b': 'rahil', 'c': 30}\n"
          ]
        }
      ]
    },
    {
      "cell_type": "code",
      "source": [
        "# Instance variable=> outside of the class by using object reference variable.\n",
        "\n",
        "class Test1:\n",
        "\n",
        "  def __init__(self):\n",
        "    self.a = 100\n",
        "    self.b = \"rahil\"\n",
        "\n",
        "  def m1(self):\n",
        "    self.c =30\n",
        "\n",
        "t1 = Test1()\n",
        "t1.m1()\n",
        "t1.d = 40 # instance variable\n",
        "print(t1.__dict__)"
      ],
      "metadata": {
        "colab": {
          "base_uri": "https://localhost:8080/"
        },
        "id": "D4__TyafRXFR",
        "outputId": "5205a8cc-de99-474c-f03c-d0731d0eefe6"
      },
      "execution_count": null,
      "outputs": [
        {
          "output_type": "stream",
          "name": "stdout",
          "text": [
            "{'a': 100, 'b': 'rahil', 'c': 30, 'd': 40}\n"
          ]
        }
      ]
    },
    {
      "cell_type": "code",
      "source": [
        "# access the instance variable\n",
        "class Test1:\n",
        "\n",
        "  def __init__(self):\n",
        "    self.a = 100\n",
        "    self.b = \"rahil\"\n",
        "\n",
        "  def m1(self):\n",
        "    print(self.a)\n",
        "    print(self.b)\n",
        "\n",
        "t1 = Test1()\n",
        "t1.m1()\n",
        "print(t1.a,t1.b)"
      ],
      "metadata": {
        "colab": {
          "base_uri": "https://localhost:8080/"
        },
        "id": "WhJp3C5tSA1e",
        "outputId": "d6be6563-72ca-4a07-fd24-e8bd4f1e10e5"
      },
      "execution_count": null,
      "outputs": [
        {
          "output_type": "stream",
          "name": "stdout",
          "text": [
            "100\n",
            "rahil\n",
            "100 rahil\n"
          ]
        }
      ]
    },
    {
      "cell_type": "code",
      "source": [
        "# delete the instance variable from the object\n",
        "\n",
        "class Test2:\n",
        "\n",
        "  def __init__(self):\n",
        "    self.a = 100\n",
        "    self.b = \"rahil\"\n",
        "    self.c = 1000\n",
        "    self.d = \"Rahil\"\n",
        "\n",
        "  def m1(self):\n",
        "    del self.d # delete within the class\n",
        "\n",
        "t1 = Test2()\n",
        "print(t1.__dict__)\n",
        "t1.m1()\n",
        "print(t1.__dict__)\n",
        "del t1.c # deleting outside the class\n",
        "print(t1.__dict__)"
      ],
      "metadata": {
        "colab": {
          "base_uri": "https://localhost:8080/"
        },
        "id": "mCNF9ttTS7rC",
        "outputId": "2bb50e3e-9e9c-4b28-95f5-6c2b4cb64761"
      },
      "execution_count": null,
      "outputs": [
        {
          "output_type": "stream",
          "name": "stdout",
          "text": [
            "{'a': 100, 'b': 'rahil', 'c': 1000, 'd': 'Rahil'}\n",
            "{'a': 100, 'b': 'rahil', 'c': 1000}\n",
            "{'a': 100, 'b': 'rahil'}\n"
          ]
        }
      ]
    },
    {
      "cell_type": "markdown",
      "source": [
        "- static variable (class level variables)\n",
        "  - if the value of a variable is not varied from object to object.\n",
        "  - if we have to declare a variable within a class but outside method. Then it is static variable.\n",
        "  - for a class only one copy of static variable will be created and shared by all objects of that class.\n",
        "  - we can access static variables either by class or by object reference but recommended to use class name. because for instance variable it will only change the data for that instance only.\n"
      ],
      "metadata": {
        "id": "iYZcD8q5QZZC"
      }
    },
    {
      "cell_type": "code",
      "source": [
        "# declaring within the class directly\n",
        "class Demo1:\n",
        "  x = 10 # static variables\n",
        "\n",
        "  def __init__(self):\n",
        "    self.a = 20 # instance variables\n",
        "\n",
        "d1 = Demo1()\n",
        "d2 = Demo1()\n",
        "\n",
        "print('d1',d1.x,d1.a)\n",
        "print('d2',d2.x,d2.a)\n",
        "Demo1.x = 8888\n",
        "d2.a = 89\n",
        "print('d1',d1.x,d1.a)\n",
        "print('d2',d2.x,d2.a)"
      ],
      "metadata": {
        "id": "_2YEXdnKUAmK",
        "colab": {
          "base_uri": "https://localhost:8080/"
        },
        "outputId": "df8b6803-0cfa-45f8-ca9c-ff9926ebd7ed"
      },
      "execution_count": null,
      "outputs": [
        {
          "output_type": "stream",
          "name": "stdout",
          "text": [
            "d1 10 20\n",
            "d2 10 20\n",
            "d1 8888 20\n",
            "d2 8888 89\n"
          ]
        }
      ]
    },
    {
      "cell_type": "code",
      "source": [
        "# declaring static variables using following ways:\n",
        "\n",
        "class Demo2:\n",
        "  x = 10 # static variables within class outside method or constructor\n",
        "\n",
        "  def __init__(self):\n",
        "    Demo2.a = 20 # static variables declaration inside constructor using class name\n",
        "\n",
        "  def m1(self): # static variables declaration inside method using class name\n",
        "    Demo2.b = 40\n",
        "\n",
        "  @classmethod # static variable declaration using class method\n",
        "  def m2(self):\n",
        "    self.d1 = 50\n",
        "    Demo2.d2 = 60\n",
        "\n",
        "  @staticmethod # static variable declaration using staticmethod\n",
        "  def m3():\n",
        "    Demo2.e = 100\n",
        "\n",
        "print(Demo2.__dict__)\n",
        "t = Demo2()\n",
        "print(Demo2.__dict__)\n",
        "t.m1()\n",
        "print(Demo2.__dict__)\n",
        "\n",
        "Demo2.m2()\n",
        "print(Demo2.__dict__)\n",
        "\n",
        "Demo2.m3()\n",
        "print(Demo2.__dict__)"
      ],
      "metadata": {
        "colab": {
          "base_uri": "https://localhost:8080/"
        },
        "id": "T1yjj4GASQG-",
        "outputId": "e73cb44f-e683-47b7-d07a-d4d9a5372c13"
      },
      "execution_count": null,
      "outputs": [
        {
          "output_type": "stream",
          "name": "stdout",
          "text": [
            "{'__module__': '__main__', 'x': 10, '__init__': <function Demo2.__init__ at 0x7f186c1116c0>, 'm1': <function Demo2.m1 at 0x7f186c1115a0>, 'm2': <classmethod(<function Demo2.m2 at 0x7f186c1112d0>)>, 'm3': <staticmethod(<function Demo2.m3 at 0x7f186c111c60>)>, '__dict__': <attribute '__dict__' of 'Demo2' objects>, '__weakref__': <attribute '__weakref__' of 'Demo2' objects>, '__doc__': None}\n",
            "{'__module__': '__main__', 'x': 10, '__init__': <function Demo2.__init__ at 0x7f186c1116c0>, 'm1': <function Demo2.m1 at 0x7f186c1115a0>, 'm2': <classmethod(<function Demo2.m2 at 0x7f186c1112d0>)>, 'm3': <staticmethod(<function Demo2.m3 at 0x7f186c111c60>)>, '__dict__': <attribute '__dict__' of 'Demo2' objects>, '__weakref__': <attribute '__weakref__' of 'Demo2' objects>, '__doc__': None, 'a': 20}\n",
            "{'__module__': '__main__', 'x': 10, '__init__': <function Demo2.__init__ at 0x7f186c1116c0>, 'm1': <function Demo2.m1 at 0x7f186c1115a0>, 'm2': <classmethod(<function Demo2.m2 at 0x7f186c1112d0>)>, 'm3': <staticmethod(<function Demo2.m3 at 0x7f186c111c60>)>, '__dict__': <attribute '__dict__' of 'Demo2' objects>, '__weakref__': <attribute '__weakref__' of 'Demo2' objects>, '__doc__': None, 'a': 20, 'b': 40}\n",
            "{'__module__': '__main__', 'x': 10, '__init__': <function Demo2.__init__ at 0x7f186c1116c0>, 'm1': <function Demo2.m1 at 0x7f186c1115a0>, 'm2': <classmethod(<function Demo2.m2 at 0x7f186c1112d0>)>, 'm3': <staticmethod(<function Demo2.m3 at 0x7f186c111c60>)>, '__dict__': <attribute '__dict__' of 'Demo2' objects>, '__weakref__': <attribute '__weakref__' of 'Demo2' objects>, '__doc__': None, 'a': 20, 'b': 40, 'd1': 50, 'd2': 60}\n",
            "{'__module__': '__main__', 'x': 10, '__init__': <function Demo2.__init__ at 0x7f186c1116c0>, 'm1': <function Demo2.m1 at 0x7f186c1115a0>, 'm2': <classmethod(<function Demo2.m2 at 0x7f186c1112d0>)>, 'm3': <staticmethod(<function Demo2.m3 at 0x7f186c111c60>)>, '__dict__': <attribute '__dict__' of 'Demo2' objects>, '__weakref__': <attribute '__weakref__' of 'Demo2' objects>, '__doc__': None, 'a': 20, 'b': 40, 'd1': 50, 'd2': 60, 'e': 100}\n"
          ]
        }
      ]
    },
    {
      "cell_type": "code",
      "source": [
        "class Test4:\n",
        "  a=777\n",
        "  @classmethod\n",
        "  def m1(self):\n",
        "    self.a=8888\n",
        "\n",
        "  @staticmethod\n",
        "  def m2():\n",
        "    Test4.a =999\n",
        "\n",
        "  def m3(self):\n",
        "    self.a = 1111\n",
        "Test4.a\n",
        "Test4.m1()\n",
        "Test4.a\n",
        "Test4.m2()\n",
        "Test4.a"
      ],
      "metadata": {
        "id": "eycwaq1lWHn6",
        "colab": {
          "base_uri": "https://localhost:8080/"
        },
        "outputId": "2a67c1a0-21c0-462f-8c54-1c8b7eea00c0"
      },
      "execution_count": null,
      "outputs": [
        {
          "output_type": "execute_result",
          "data": {
            "text/plain": [
              "999"
            ]
          },
          "metadata": {},
          "execution_count": 15
        }
      ]
    },
    {
      "cell_type": "code",
      "source": [
        "t = Test4()\n",
        "t.m3()\n",
        "t.a"
      ],
      "metadata": {
        "colab": {
          "base_uri": "https://localhost:8080/"
        },
        "id": "TyfkCGzDlJgN",
        "outputId": "ece3a5b4-dcd2-44e3-8d58-9775834ace71"
      },
      "execution_count": null,
      "outputs": [
        {
          "output_type": "execute_result",
          "data": {
            "text/plain": [
              "1111"
            ]
          },
          "metadata": {},
          "execution_count": 16
        }
      ]
    },
    {
      "cell_type": "code",
      "source": [
        "Test4.a"
      ],
      "metadata": {
        "colab": {
          "base_uri": "https://localhost:8080/"
        },
        "id": "AzZOvBC-mYs5",
        "outputId": "28cf74e8-b8eb-4451-91c6-b049fe3c2a07"
      },
      "execution_count": null,
      "outputs": [
        {
          "output_type": "execute_result",
          "data": {
            "text/plain": [
              "999"
            ]
          },
          "metadata": {},
          "execution_count": 17
        }
      ]
    },
    {
      "cell_type": "code",
      "source": [
        "class Test5:\n",
        "  a=10\n",
        "  def __init__(self):\n",
        "    self.b=20\n",
        "  def m1(self):\n",
        "    self.a = 8888\n",
        "    self.b = 9999\n",
        "\n",
        "t1 = Test5()\n",
        "t2 = Test5()\n",
        "print(t1.a,t1.b)\n",
        "t1.m1()\n",
        "print(t1.a,t1.b)\n",
        "Test5.a = 1000\n",
        "print(t2.a, t2.b)\n",
        "print(t1.a,t1.b)\n"
      ],
      "metadata": {
        "colab": {
          "base_uri": "https://localhost:8080/"
        },
        "id": "MjGjz4ixmbXm",
        "outputId": "75550b5c-34fe-44f7-c42a-96019241e8f5"
      },
      "execution_count": null,
      "outputs": [
        {
          "output_type": "stream",
          "name": "stdout",
          "text": [
            "10 20\n",
            "8888 9999\n",
            "1000 20\n",
            "8888 9999\n"
          ]
        }
      ]
    },
    {
      "cell_type": "code",
      "source": [
        "i = 10"
      ],
      "metadata": {
        "id": "Lr0-_-vAnTTt"
      },
      "execution_count": null,
      "outputs": []
    },
    {
      "cell_type": "code",
      "source": [
        "print(type(i))"
      ],
      "metadata": {
        "colab": {
          "base_uri": "https://localhost:8080/"
        },
        "id": "TYcbzRVMt32k",
        "outputId": "1e0fca8e-231f-45a7-d9f1-e317f2edb6d6"
      },
      "execution_count": null,
      "outputs": [
        {
          "output_type": "stream",
          "name": "stdout",
          "text": [
            "<class 'int'>\n"
          ]
        }
      ]
    },
    {
      "cell_type": "code",
      "source": [
        "# class => blueprint or template or model or a design\n",
        "# object => instance of a class or reference of a class.\n"
      ],
      "metadata": {
        "id": "pO3ux805uAfV"
      },
      "execution_count": null,
      "outputs": []
    },
    {
      "cell_type": "code",
      "source": [
        "class person:\n",
        "  pass"
      ],
      "metadata": {
        "id": "-yyD155JvHaK"
      },
      "execution_count": null,
      "outputs": []
    },
    {
      "cell_type": "code",
      "source": [
        "p = person"
      ],
      "metadata": {
        "id": "MkdXdw3CvLKe"
      },
      "execution_count": null,
      "outputs": []
    },
    {
      "cell_type": "code",
      "source": [
        "print(p)"
      ],
      "metadata": {
        "colab": {
          "base_uri": "https://localhost:8080/"
        },
        "id": "A_HmuuPCvYZW",
        "outputId": "ddd932ae-7b4f-444d-f5a4-700b3e8387df"
      },
      "execution_count": null,
      "outputs": [
        {
          "output_type": "stream",
          "name": "stdout",
          "text": [
            "<class '__main__.person'>\n"
          ]
        }
      ]
    },
    {
      "cell_type": "code",
      "source": [
        "p.name = \"mohit\"\n",
        "p.surname =\"mahi\"\n",
        "p.eno = 12334\n"
      ],
      "metadata": {
        "id": "eFQi8s-Qvbzz"
      },
      "execution_count": null,
      "outputs": []
    },
    {
      "cell_type": "code",
      "source": [
        "a = person"
      ],
      "metadata": {
        "id": "_65l83Dbv23O"
      },
      "execution_count": null,
      "outputs": []
    },
    {
      "cell_type": "code",
      "source": [
        "a.name = \"Rahil\"\n",
        "a.name2 = \"Akhil\"\n",
        "a.mno = 8327692"
      ],
      "metadata": {
        "id": "3yJrQvEMv5qG"
      },
      "execution_count": null,
      "outputs": []
    },
    {
      "cell_type": "code",
      "source": [
        "a.name"
      ],
      "metadata": {
        "colab": {
          "base_uri": "https://localhost:8080/",
          "height": 35
        },
        "id": "-snEkJapwAnX",
        "outputId": "931a495a-669a-4661-f950-e84398835055"
      },
      "execution_count": null,
      "outputs": [
        {
          "output_type": "execute_result",
          "data": {
            "text/plain": [
              "'Rahil'"
            ],
            "application/vnd.google.colaboratory.intrinsic+json": {
              "type": "string"
            }
          },
          "metadata": {},
          "execution_count": 28
        }
      ]
    },
    {
      "cell_type": "code",
      "source": [
        "p.name"
      ],
      "metadata": {
        "colab": {
          "base_uri": "https://localhost:8080/",
          "height": 35
        },
        "id": "AWCEitb7wO3i",
        "outputId": "7ed14919-c54c-42c0-ae2e-b1c32a85c530"
      },
      "execution_count": null,
      "outputs": [
        {
          "output_type": "execute_result",
          "data": {
            "text/plain": [
              "'Rahil'"
            ],
            "application/vnd.google.colaboratory.intrinsic+json": {
              "type": "string"
            }
          },
          "metadata": {},
          "execution_count": 29
        }
      ]
    },
    {
      "cell_type": "code",
      "source": [
        "p.surname"
      ],
      "metadata": {
        "colab": {
          "base_uri": "https://localhost:8080/",
          "height": 35
        },
        "id": "LcunUQXhwQbH",
        "outputId": "a4816de2-99d6-434e-d71d-879b36b1c5ac"
      },
      "execution_count": null,
      "outputs": [
        {
          "output_type": "execute_result",
          "data": {
            "text/plain": [
              "'mahi'"
            ],
            "application/vnd.google.colaboratory.intrinsic+json": {
              "type": "string"
            }
          },
          "metadata": {},
          "execution_count": 30
        }
      ]
    },
    {
      "cell_type": "code",
      "source": [
        "a.surname"
      ],
      "metadata": {
        "colab": {
          "base_uri": "https://localhost:8080/",
          "height": 35
        },
        "id": "DhoF-wiNwU35",
        "outputId": "12ba9530-cc09-42c2-d7ee-e4d19afb6c4c"
      },
      "execution_count": null,
      "outputs": [
        {
          "output_type": "execute_result",
          "data": {
            "text/plain": [
              "'mahi'"
            ],
            "application/vnd.google.colaboratory.intrinsic+json": {
              "type": "string"
            }
          },
          "metadata": {},
          "execution_count": 31
        }
      ]
    },
    {
      "cell_type": "code",
      "source": [
        "p.name2"
      ],
      "metadata": {
        "colab": {
          "base_uri": "https://localhost:8080/",
          "height": 35
        },
        "id": "xw5uauD7wWaf",
        "outputId": "cfd04a5c-b661-48ef-f60a-d18c85b7668e"
      },
      "execution_count": null,
      "outputs": [
        {
          "output_type": "execute_result",
          "data": {
            "text/plain": [
              "'Akhil'"
            ],
            "application/vnd.google.colaboratory.intrinsic+json": {
              "type": "string"
            }
          },
          "metadata": {},
          "execution_count": 32
        }
      ]
    },
    {
      "cell_type": "code",
      "source": [
        "# good practice\n",
        "\n",
        "class person:\n",
        "\n",
        "  def __init__(self):\n",
        "    self.name = \"mohit\"\n",
        "    self.surname = \"mahi\" # static\n",
        "    self.eno = 5217851\n",
        "    self.mob = 21896219\n",
        "p = person()\n",
        "print(p)\n",
        "p.name = \"Shariq\"\n",
        "p.surname = \"Nazmi\"\n",
        "p.eno = 6871267\n",
        "p.mob = 721897891\n",
        "\n",
        "#print(p)\n",
        "print(p.name)\n",
        "print(p.surname)\n",
        "print(p.eno)\n",
        "print(p.mob)\n",
        "\n",
        "a = person()\n",
        "print(a)\n",
        "a.name = \"Paramjyot\"\n",
        "a.surname = \"Singh\"\n",
        "a.eno = 68715678\n",
        "a.mob = 721896575\n",
        "\n",
        "print(a.name)\n",
        "print(a.surname)\n",
        "print(a.eno)\n",
        "print(a.mob)\n"
      ],
      "metadata": {
        "colab": {
          "base_uri": "https://localhost:8080/"
        },
        "id": "bdpJR9NuwaSq",
        "outputId": "c9b510eb-261c-44dd-8e16-9989ba90f7d5"
      },
      "execution_count": null,
      "outputs": [
        {
          "output_type": "stream",
          "name": "stdout",
          "text": [
            "<__main__.person object at 0x7f186c10eb00>\n",
            "Shariq\n",
            "Nazmi\n",
            "6871267\n",
            "721897891\n",
            "<__main__.person object at 0x7f186c161de0>\n",
            "Paramjyot\n",
            "Singh\n",
            "68715678\n",
            "721896575\n"
          ]
        }
      ]
    },
    {
      "cell_type": "code",
      "source": [
        "# good practice\n",
        "\n",
        "class person:\n",
        "\n",
        "  addar = 7186721868\n",
        "\n",
        "  def __init__(self): # constructor\n",
        "\n",
        "    self.name = \"mohit\"\n",
        "    self.surname = \"mahi\" # instance variable\n",
        "    self.eno = 5217851\n",
        "    self.mob = 21896219\n",
        "\n",
        "  def fun(self): # it is a method\n",
        "    print(self.addar)\n",
        "\n",
        "p = person()\n",
        "print(p)\n",
        "p.name = \"Shariq\"\n",
        "p.surname = \"Nazmi\"\n",
        "p.eno = 6871267\n",
        "p.mob = 721897891\n",
        "\n",
        "#print(p)\n",
        "print(p.name)\n",
        "print(p.surname)\n",
        "print(p.eno)\n",
        "print(p.mob)\n",
        "\n",
        "a = person()\n",
        "print(a)\n",
        "a.name = \"Paramjyot\"\n",
        "a.surname = \"Singh\"\n",
        "a.eno = 68715678\n",
        "a.mob = 721896575\n",
        "\n",
        "print(a.name)\n",
        "print(a.surname)\n",
        "print(a.eno)\n",
        "print(a.mob)\n"
      ],
      "metadata": {
        "colab": {
          "base_uri": "https://localhost:8080/"
        },
        "id": "yh-KdgUc0q6i",
        "outputId": "6e84dbca-85bb-415c-d3a2-1d963cf89149"
      },
      "execution_count": null,
      "outputs": [
        {
          "output_type": "stream",
          "name": "stdout",
          "text": [
            "<__main__.person object at 0x7f186c1621d0>\n",
            "Shariq\n",
            "Nazmi\n",
            "6871267\n",
            "721897891\n",
            "<__main__.person object at 0x7f186c161db0>\n",
            "Paramjyot\n",
            "Singh\n",
            "68715678\n",
            "721896575\n"
          ]
        }
      ]
    },
    {
      "cell_type": "code",
      "source": [
        "class Test:\n",
        "  pass"
      ],
      "metadata": {
        "id": "f87LFvzW2gpN"
      },
      "execution_count": null,
      "outputs": []
    },
    {
      "cell_type": "code",
      "source": [
        "a = Test()"
      ],
      "metadata": {
        "id": "f2bcyTGs8Vog"
      },
      "execution_count": null,
      "outputs": []
    },
    {
      "cell_type": "code",
      "source": [
        "print(type(a))"
      ],
      "metadata": {
        "colab": {
          "base_uri": "https://localhost:8080/"
        },
        "id": "Ih3D4Okv8qvS",
        "outputId": "b9ac2167-1eb5-4c24-95ea-ee50bb58b952"
      },
      "execution_count": null,
      "outputs": [
        {
          "output_type": "stream",
          "name": "stdout",
          "text": [
            "<class '__main__.Test'>\n"
          ]
        }
      ]
    },
    {
      "cell_type": "code",
      "source": [
        "class Oops:\n",
        "  def welcome_msg():\n",
        "    print(\"Welcome to oops\")\n"
      ],
      "metadata": {
        "id": "TVqnOiU88sRQ"
      },
      "execution_count": null,
      "outputs": []
    },
    {
      "cell_type": "code",
      "source": [
        "mohit = Oops()"
      ],
      "metadata": {
        "id": "0reaE2xD84xO"
      },
      "execution_count": null,
      "outputs": []
    },
    {
      "cell_type": "code",
      "source": [
        "mohit.welcome_msg()"
      ],
      "metadata": {
        "colab": {
          "base_uri": "https://localhost:8080/",
          "height": 141
        },
        "id": "A62GiZy889PB",
        "outputId": "9a8aa29b-0b31-4953-c3d8-ad45976fc2a3"
      },
      "execution_count": null,
      "outputs": [
        {
          "output_type": "error",
          "ename": "TypeError",
          "evalue": "Oops.welcome_msg() takes 0 positional arguments but 1 was given",
          "traceback": [
            "\u001b[0;31m---------------------------------------------------------------------------\u001b[0m",
            "\u001b[0;31mTypeError\u001b[0m                                 Traceback (most recent call last)",
            "\u001b[0;32m<ipython-input-40-058da58bd669>\u001b[0m in \u001b[0;36m<cell line: 1>\u001b[0;34m()\u001b[0m\n\u001b[0;32m----> 1\u001b[0;31m \u001b[0mmohit\u001b[0m\u001b[0;34m.\u001b[0m\u001b[0mwelcome_msg\u001b[0m\u001b[0;34m(\u001b[0m\u001b[0;34m)\u001b[0m\u001b[0;34m\u001b[0m\u001b[0;34m\u001b[0m\u001b[0m\n\u001b[0m",
            "\u001b[0;31mTypeError\u001b[0m: Oops.welcome_msg() takes 0 positional arguments but 1 was given"
          ]
        }
      ]
    },
    {
      "cell_type": "code",
      "source": [
        "class Oops:\n",
        "  def welcome_msg(self):\n",
        "    print(\"Welcome to oops\")\n"
      ],
      "metadata": {
        "id": "aJNvQOUg9BNi"
      },
      "execution_count": null,
      "outputs": []
    },
    {
      "cell_type": "code",
      "source": [
        "mohit = Oops()"
      ],
      "metadata": {
        "id": "LXDos2dY9Rw0"
      },
      "execution_count": null,
      "outputs": []
    },
    {
      "cell_type": "code",
      "source": [
        "mohit.welcome_msg()"
      ],
      "metadata": {
        "id": "I-MvSGUC9T_j",
        "colab": {
          "base_uri": "https://localhost:8080/"
        },
        "outputId": "9c77a03a-fb8b-4c09-fbf3-f87062792618"
      },
      "execution_count": null,
      "outputs": [
        {
          "output_type": "stream",
          "name": "stdout",
          "text": [
            "Welcome to oops\n"
          ]
        }
      ]
    },
    {
      "cell_type": "code",
      "source": [
        "a = 1\n",
        "b=2\n"
      ],
      "metadata": {
        "id": "QbGn9-de9WZd"
      },
      "execution_count": null,
      "outputs": []
    },
    {
      "cell_type": "code",
      "source": [
        "a"
      ],
      "metadata": {
        "id": "javKU_so-4aB",
        "colab": {
          "base_uri": "https://localhost:8080/"
        },
        "outputId": "727e841a-72fa-4d69-f392-0963309ba5a9"
      },
      "execution_count": null,
      "outputs": [
        {
          "output_type": "execute_result",
          "data": {
            "text/plain": [
              "1"
            ]
          },
          "metadata": {},
          "execution_count": 45
        }
      ]
    },
    {
      "cell_type": "code",
      "source": [
        "b"
      ],
      "metadata": {
        "id": "zKg0Vn_U-4rf",
        "colab": {
          "base_uri": "https://localhost:8080/"
        },
        "outputId": "dfebc5d9-a45b-476c-b0a9-0dfc57f24a98"
      },
      "execution_count": null,
      "outputs": [
        {
          "output_type": "execute_result",
          "data": {
            "text/plain": [
              "2"
            ]
          },
          "metadata": {},
          "execution_count": 46
        }
      ]
    },
    {
      "cell_type": "code",
      "source": [
        "# constructor\n",
        "class Student:\n",
        "\n",
        "  def __init__(self, name, phone_number, stud_id, email_id):\n",
        "    self.name = name # self.name is an INSTANCE VARIABLE\n",
        "    self.phone_number = phone_number\n",
        "    self.stud_id = stud_id\n",
        "    self.email_id = email_id\n",
        "\n",
        "  def display_details(self):\n",
        "    return self.name, self.phone_number, self.stud_id, self.email_id"
      ],
      "metadata": {
        "id": "8V53EVc9-5FZ"
      },
      "execution_count": null,
      "outputs": []
    },
    {
      "cell_type": "code",
      "source": [
        "akhil = Student(\"Akhil\",123321,12,'akhil@gmail.com')"
      ],
      "metadata": {
        "id": "c8KasbMC_sXu"
      },
      "execution_count": null,
      "outputs": []
    },
    {
      "cell_type": "code",
      "source": [
        "akhil.display_details()"
      ],
      "metadata": {
        "id": "WlabbkVx_zHk",
        "colab": {
          "base_uri": "https://localhost:8080/"
        },
        "outputId": "b695e51b-ba93-4431-f54a-59702fa37560"
      },
      "execution_count": null,
      "outputs": [
        {
          "output_type": "execute_result",
          "data": {
            "text/plain": [
              "('Akhil', 123321, 12, 'akhil@gmail.com')"
            ]
          },
          "metadata": {},
          "execution_count": 49
        }
      ]
    },
    {
      "cell_type": "code",
      "source": [
        "akhil.email_id"
      ],
      "metadata": {
        "id": "p0oeNXTsAA9m",
        "colab": {
          "base_uri": "https://localhost:8080/",
          "height": 35
        },
        "outputId": "a0f2f63f-ba1a-47e0-d62b-77979f96f99d"
      },
      "execution_count": null,
      "outputs": [
        {
          "output_type": "execute_result",
          "data": {
            "text/plain": [
              "'akhil@gmail.com'"
            ],
            "application/vnd.google.colaboratory.intrinsic+json": {
              "type": "string"
            }
          },
          "metadata": {},
          "execution_count": 50
        }
      ]
    },
    {
      "cell_type": "code",
      "source": [
        "# constructor\n",
        "class Student:\n",
        "\n",
        "\n",
        "  def __init__(mohit, name, phone_number, stud_id, email_id):\n",
        "\n",
        "    mohit.name = name # self.name is an INSTANCE VARIABLE\n",
        "    mohit.phone_number = phone_number\n",
        "    mohit.stud_id = stud_id\n",
        "    mohit.email_id = email_id\n",
        "\n",
        "  def display_details(self):\n",
        "    return self.name, self.phone_number, self.stud_id, self.email_id\n",
        "\n",
        "  def hello(hello):\n",
        "    print(\"Hi\")"
      ],
      "metadata": {
        "id": "Z3RfjyEbBYNp"
      },
      "execution_count": null,
      "outputs": []
    },
    {
      "cell_type": "code",
      "source": [
        "rahil = Student(\"rahil\",62718,1,\"rahil@gmail.com\")"
      ],
      "metadata": {
        "id": "vCDgqzZADQ_f"
      },
      "execution_count": null,
      "outputs": []
    },
    {
      "cell_type": "code",
      "source": [
        "rahil.display_details()"
      ],
      "metadata": {
        "id": "ERQyy2nFDdy7",
        "colab": {
          "base_uri": "https://localhost:8080/"
        },
        "outputId": "ca5f02e3-846b-4ae9-8ebb-06593b689aeb"
      },
      "execution_count": null,
      "outputs": [
        {
          "output_type": "execute_result",
          "data": {
            "text/plain": [
              "('rahil', 62718, 1, 'rahil@gmail.com')"
            ]
          },
          "metadata": {},
          "execution_count": 53
        }
      ]
    },
    {
      "cell_type": "code",
      "source": [
        "rahil.hello()"
      ],
      "metadata": {
        "id": "zTIXR5YrDh3a",
        "colab": {
          "base_uri": "https://localhost:8080/"
        },
        "outputId": "acb494bd-8f4e-4fbf-b89e-768aba0c3783"
      },
      "execution_count": null,
      "outputs": [
        {
          "output_type": "stream",
          "name": "stdout",
          "text": [
            "Hi\n"
          ]
        }
      ]
    },
    {
      "cell_type": "code",
      "source": [
        "class Oops1:\n",
        "\n",
        "  x = 10\n",
        "\n",
        "  def welcome_msg(self): # instance method\n",
        "    self.x = 100\n",
        "    print(\"Welcome to oops\")\n",
        "\n"
      ],
      "metadata": {
        "id": "BwGBQIBZEBxX"
      },
      "execution_count": null,
      "outputs": []
    },
    {
      "cell_type": "code",
      "source": [
        "Oops1.x # called from class name"
      ],
      "metadata": {
        "id": "RFI2yu6DE_5V",
        "colab": {
          "base_uri": "https://localhost:8080/"
        },
        "outputId": "a1cce591-ca3b-45a6-ad22-406f9b5387d5"
      },
      "execution_count": null,
      "outputs": [
        {
          "output_type": "execute_result",
          "data": {
            "text/plain": [
              "10"
            ]
          },
          "metadata": {},
          "execution_count": 56
        }
      ]
    },
    {
      "cell_type": "code",
      "source": [
        "s = Oops1()\n",
        "s1 = Oops1\n",
        "s1.x\n"
      ],
      "metadata": {
        "id": "7CnmNKNSFCBz",
        "colab": {
          "base_uri": "https://localhost:8080/"
        },
        "outputId": "0c0e4870-b205-4491-f48a-b0719d59978f"
      },
      "execution_count": null,
      "outputs": [
        {
          "output_type": "execute_result",
          "data": {
            "text/plain": [
              "10"
            ]
          },
          "metadata": {},
          "execution_count": 57
        }
      ]
    },
    {
      "cell_type": "code",
      "source": [
        "s.x"
      ],
      "metadata": {
        "id": "ZlOTp80tGVCE",
        "colab": {
          "base_uri": "https://localhost:8080/"
        },
        "outputId": "b8d4fb1d-7ec4-431f-c596-e73bed83e797"
      },
      "execution_count": null,
      "outputs": [
        {
          "output_type": "execute_result",
          "data": {
            "text/plain": [
              "10"
            ]
          },
          "metadata": {},
          "execution_count": 58
        }
      ]
    },
    {
      "cell_type": "code",
      "source": [
        "s1.x"
      ],
      "metadata": {
        "id": "sGuTfABTGaAH",
        "colab": {
          "base_uri": "https://localhost:8080/"
        },
        "outputId": "85302597-8ee7-450e-f20b-94ee26eaab16"
      },
      "execution_count": null,
      "outputs": [
        {
          "output_type": "execute_result",
          "data": {
            "text/plain": [
              "10"
            ]
          },
          "metadata": {},
          "execution_count": 59
        }
      ]
    },
    {
      "cell_type": "code",
      "source": [
        "s1.x = 20"
      ],
      "metadata": {
        "id": "n109bMlwGjNB"
      },
      "execution_count": null,
      "outputs": []
    },
    {
      "cell_type": "code",
      "source": [
        "s1.x"
      ],
      "metadata": {
        "id": "XxvD5AbIGln-",
        "colab": {
          "base_uri": "https://localhost:8080/"
        },
        "outputId": "6c5790e2-a2f0-46ab-aba2-72b1e6cdb174"
      },
      "execution_count": null,
      "outputs": [
        {
          "output_type": "execute_result",
          "data": {
            "text/plain": [
              "20"
            ]
          },
          "metadata": {},
          "execution_count": 61
        }
      ]
    },
    {
      "cell_type": "code",
      "source": [
        "s.x"
      ],
      "metadata": {
        "id": "_hD9w3ZPGndF",
        "colab": {
          "base_uri": "https://localhost:8080/"
        },
        "outputId": "a583b173-d8f6-4fb1-df43-8870433c1665"
      },
      "execution_count": null,
      "outputs": [
        {
          "output_type": "execute_result",
          "data": {
            "text/plain": [
              "20"
            ]
          },
          "metadata": {},
          "execution_count": 62
        }
      ]
    },
    {
      "cell_type": "code",
      "source": [
        "s.welcome_msg()\n",
        "s.x"
      ],
      "metadata": {
        "id": "U7DtiO1-GyYU",
        "colab": {
          "base_uri": "https://localhost:8080/"
        },
        "outputId": "9dfb8775-dc9c-4c10-e8d8-6662dbd323bd"
      },
      "execution_count": null,
      "outputs": [
        {
          "output_type": "stream",
          "name": "stdout",
          "text": [
            "Welcome to oops\n"
          ]
        },
        {
          "output_type": "execute_result",
          "data": {
            "text/plain": [
              "100"
            ]
          },
          "metadata": {},
          "execution_count": 63
        }
      ]
    },
    {
      "cell_type": "code",
      "source": [
        "s1.x"
      ],
      "metadata": {
        "id": "uL3VFaA6G1cf",
        "colab": {
          "base_uri": "https://localhost:8080/"
        },
        "outputId": "170118ac-af98-49fd-a58c-a940cc03812a"
      },
      "execution_count": null,
      "outputs": [
        {
          "output_type": "execute_result",
          "data": {
            "text/plain": [
              "20"
            ]
          },
          "metadata": {},
          "execution_count": 64
        }
      ]
    },
    {
      "cell_type": "code",
      "source": [
        "s # instance or object of a class"
      ],
      "metadata": {
        "id": "RiDK4hT6FOa3",
        "colab": {
          "base_uri": "https://localhost:8080/"
        },
        "outputId": "1e5516db-b0e4-4f1b-c881-bae8ac874de1"
      },
      "execution_count": null,
      "outputs": [
        {
          "output_type": "execute_result",
          "data": {
            "text/plain": [
              "<__main__.Oops1 at 0x7f186c160d00>"
            ]
          },
          "metadata": {},
          "execution_count": 65
        }
      ]
    },
    {
      "cell_type": "code",
      "source": [
        "s1 # it is a class"
      ],
      "metadata": {
        "id": "3uNr3yUPFZ0h",
        "colab": {
          "base_uri": "https://localhost:8080/"
        },
        "outputId": "e4d98c86-2d63-4868-c713-b30ff6ec09c8"
      },
      "execution_count": null,
      "outputs": [
        {
          "output_type": "execute_result",
          "data": {
            "text/plain": [
              "__main__.Oops1"
            ]
          },
          "metadata": {},
          "execution_count": 66
        }
      ]
    },
    {
      "cell_type": "code",
      "source": [
        "del s1"
      ],
      "metadata": {
        "id": "2OrMJQu3FdVN"
      },
      "execution_count": null,
      "outputs": []
    },
    {
      "cell_type": "code",
      "source": [
        "s1"
      ],
      "metadata": {
        "id": "1HRJ51JqG9gc",
        "colab": {
          "base_uri": "https://localhost:8080/",
          "height": 141
        },
        "outputId": "b81bb302-b73a-4ca6-f361-5c751165fa9e"
      },
      "execution_count": null,
      "outputs": [
        {
          "output_type": "error",
          "ename": "NameError",
          "evalue": "name 's1' is not defined",
          "traceback": [
            "\u001b[0;31m---------------------------------------------------------------------------\u001b[0m",
            "\u001b[0;31mNameError\u001b[0m                                 Traceback (most recent call last)",
            "\u001b[0;32m<ipython-input-68-d0257f733e5e>\u001b[0m in \u001b[0;36m<cell line: 1>\u001b[0;34m()\u001b[0m\n\u001b[0;32m----> 1\u001b[0;31m \u001b[0ms1\u001b[0m\u001b[0;34m\u001b[0m\u001b[0;34m\u001b[0m\u001b[0m\n\u001b[0m",
            "\u001b[0;31mNameError\u001b[0m: name 's1' is not defined"
          ]
        }
      ]
    },
    {
      "cell_type": "code",
      "source": [
        "class Static_demo:\n",
        "\n",
        "  @staticmethod\n",
        "  def add(x,y):\n",
        "    print(x+y)\n"
      ],
      "metadata": {
        "id": "n-EifoCQG-YK"
      },
      "execution_count": null,
      "outputs": []
    },
    {
      "cell_type": "code",
      "source": [
        "Static_demo.add(10,20)"
      ],
      "metadata": {
        "id": "HmoDFoHCHoac",
        "colab": {
          "base_uri": "https://localhost:8080/"
        },
        "outputId": "a7e095a1-8ab5-49a1-88c2-cbc5e651e0fe"
      },
      "execution_count": null,
      "outputs": [
        {
          "output_type": "stream",
          "name": "stdout",
          "text": [
            "30\n"
          ]
        }
      ]
    },
    {
      "cell_type": "code",
      "source": [
        "# Make a Student data in which we pass name and marks as constructor input.\n",
        "# display there name and marks in as a display method\n",
        "# according to marks show first grade, second grade and third grade then print you failed in exam\n"
      ],
      "metadata": {
        "id": "VLL6TmMzHspU"
      },
      "execution_count": null,
      "outputs": []
    },
    {
      "cell_type": "code",
      "source": [
        "# setter and getter\n",
        "# setter => to set the values in class variables\n",
        "class Student:\n",
        "\n",
        "  def set_name(self,name):\n",
        "    self.name = name\n",
        "\n",
        "# getter => to get the values from class variables\n",
        "\n",
        "  def get_name(self):\n",
        "    return self.name"
      ],
      "metadata": {
        "id": "oBK7o33GJA0N"
      },
      "execution_count": null,
      "outputs": []
    },
    {
      "cell_type": "code",
      "source": [
        "s = Student()"
      ],
      "metadata": {
        "id": "PjThe06LJ1MT"
      },
      "execution_count": null,
      "outputs": []
    },
    {
      "cell_type": "code",
      "source": [
        "s.set_name(\"Mohit\")"
      ],
      "metadata": {
        "id": "_ZE1yGKmJ4xb"
      },
      "execution_count": null,
      "outputs": []
    },
    {
      "cell_type": "code",
      "source": [
        "s.get_name()"
      ],
      "metadata": {
        "id": "mOO1gtraJ8fC",
        "colab": {
          "base_uri": "https://localhost:8080/",
          "height": 35
        },
        "outputId": "7153b97d-1d66-463d-d29a-5db4d02338fa"
      },
      "execution_count": null,
      "outputs": [
        {
          "output_type": "execute_result",
          "data": {
            "text/plain": [
              "'Mohit'"
            ],
            "application/vnd.google.colaboratory.intrinsic+json": {
              "type": "string"
            }
          },
          "metadata": {},
          "execution_count": 75
        }
      ]
    },
    {
      "cell_type": "code",
      "source": [
        "# Make a Student data in which we pass name and marks as constructor input.\n",
        "# display there name and marks in as a display method\n",
        "\n",
        "class Student_demo:\n",
        "\n",
        "  def set_name(self,name):\n",
        "    self.name = name\n",
        "\n",
        "  def set_marks(self, marks):\n",
        "    self.marks = marks\n",
        "\n",
        "  def get_name(self):\n",
        "    return self.name\n",
        "\n",
        "  def get_marks(self):\n",
        "    return self.marks\n"
      ],
      "metadata": {
        "id": "v4rtoSM8J_RN"
      },
      "execution_count": null,
      "outputs": []
    },
    {
      "cell_type": "code",
      "source": [
        "param = Student_demo()"
      ],
      "metadata": {
        "id": "nXxLGgTpK2AG"
      },
      "execution_count": null,
      "outputs": []
    },
    {
      "cell_type": "code",
      "source": [
        "param.set_name(\"ParamJyot Singh\")\n",
        "param.set_marks(95)"
      ],
      "metadata": {
        "id": "rp08HGpHK-H-"
      },
      "execution_count": null,
      "outputs": []
    },
    {
      "cell_type": "code",
      "source": [
        "_name = input(\"Enter the name\")\n",
        "param.set_name(_name)\n",
        "_marks = input(\"Enter the marks\")\n",
        "param.set_marks(_marks)"
      ],
      "metadata": {
        "id": "KsyVo5n1LV8k",
        "colab": {
          "base_uri": "https://localhost:8080/"
        },
        "outputId": "7e2d6e07-6b78-43b2-affe-6b7d29b18b74"
      },
      "execution_count": null,
      "outputs": [
        {
          "name": "stdout",
          "output_type": "stream",
          "text": [
            "Enter the name\n",
            "Enter the marks\n"
          ]
        }
      ]
    },
    {
      "cell_type": "code",
      "source": [
        "param.get_name()"
      ],
      "metadata": {
        "id": "rrVCsjmYLMDv",
        "colab": {
          "base_uri": "https://localhost:8080/",
          "height": 35
        },
        "outputId": "d75b3848-8980-4031-a2cf-e09b652723d6"
      },
      "execution_count": null,
      "outputs": [
        {
          "output_type": "execute_result",
          "data": {
            "text/plain": [
              "''"
            ],
            "application/vnd.google.colaboratory.intrinsic+json": {
              "type": "string"
            }
          },
          "metadata": {},
          "execution_count": 80
        }
      ]
    },
    {
      "cell_type": "code",
      "source": [
        "param.get_marks()"
      ],
      "metadata": {
        "id": "VPXtIvuULPMb",
        "colab": {
          "base_uri": "https://localhost:8080/",
          "height": 35
        },
        "outputId": "399f47d0-aef5-495d-ae11-ac18c00947a2"
      },
      "execution_count": null,
      "outputs": [
        {
          "output_type": "execute_result",
          "data": {
            "text/plain": [
              "''"
            ],
            "application/vnd.google.colaboratory.intrinsic+json": {
              "type": "string"
            }
          },
          "metadata": {},
          "execution_count": 81
        }
      ]
    },
    {
      "cell_type": "code",
      "source": [
        "# class method\n",
        "# '@classmethod'\n",
        "\n",
        "class Animal:\n",
        "\n",
        "  legs = 4\n",
        "\n",
        "  @classmethod\n",
        "  def walk(cls, name):\n",
        "      print(name,\"has\",cls.legs,\"legs\")\n"
      ],
      "metadata": {
        "id": "_1qthSZvLRpL"
      },
      "execution_count": null,
      "outputs": []
    },
    {
      "cell_type": "code",
      "source": [
        "Animal.walk(\"Dog\")"
      ],
      "metadata": {
        "id": "b9o797wEMZBi",
        "colab": {
          "base_uri": "https://localhost:8080/"
        },
        "outputId": "75c0eab2-3ff5-4192-a50a-e40330bd76e1"
      },
      "execution_count": null,
      "outputs": [
        {
          "output_type": "stream",
          "name": "stdout",
          "text": [
            "Dog has 4 legs\n"
          ]
        }
      ]
    },
    {
      "cell_type": "code",
      "source": [
        "class Car:\n",
        "  def __init__(self, name, model, color):\n",
        "    self.name = name\n",
        "    self.model = model\n",
        "    self.color = color\n",
        "\n",
        "  def getinfo(self):\n",
        "    print(f\"car name={self.name} model= {self.model} color= {self.color}\")\n",
        "\n",
        "\n",
        "class Person:\n",
        "  def __init__(self, name, age):\n",
        "    self.name = name\n",
        "    self.age = age\n",
        "\n",
        "  def eatndrink(self):\n",
        "    print(\"Eat biryani and drink beer\")\n",
        "\n",
        "class Employee(Person):\n",
        "\n",
        "  def __init__(self, name, age, eno, email_id, car):\n",
        "    super().__init__(name, age)\n",
        "    #super().eatndrink()\n",
        "    #p = Person(name,age)\n",
        "    #self.name = p.name\n",
        "    #self.age = p.age\n",
        "    self.eno = eno\n",
        "    self.email_id = email_id\n",
        "    self.car = car\n",
        "\n",
        "  def work(self):\n",
        "    print(\"OOPS concepts are veryyyyyyyy simple than you think\")\n",
        "\n",
        "  def empinfo(self):\n",
        "    print(\"Employee name\", self.name)\n",
        "    print(\"Employee age\", self.age)\n",
        "    print(\"Employee eno\", self.eno)\n",
        "    print(\"Employee email id\", self.email_id)\n",
        "    print(\"Employee Car info\")\n",
        "    self.car.getinfo()"
      ],
      "metadata": {
        "id": "UMrQfx1UMdSg"
      },
      "execution_count": null,
      "outputs": []
    },
    {
      "cell_type": "code",
      "source": [
        "c = Car(\"Innova\", \"2.5V\", 'white')\n",
        "e = Employee(\"Mohit\", 21111111, 1000010201021, \"hkjgaskjgkahsa@gmail.com\", c)\n"
      ],
      "metadata": {
        "id": "iDAyCN2nQ-Ps"
      },
      "execution_count": null,
      "outputs": []
    },
    {
      "cell_type": "code",
      "source": [
        "e.eatndrink()"
      ],
      "metadata": {
        "colab": {
          "base_uri": "https://localhost:8080/"
        },
        "id": "YEOFmiuJUbWD",
        "outputId": "7c1d1042-c480-4201-976f-243e48394b7b"
      },
      "execution_count": null,
      "outputs": [
        {
          "output_type": "stream",
          "name": "stdout",
          "text": [
            "Eat biryani and drink beer\n"
          ]
        }
      ]
    },
    {
      "cell_type": "code",
      "source": [
        "e.work()"
      ],
      "metadata": {
        "colab": {
          "base_uri": "https://localhost:8080/"
        },
        "id": "td_vH9H-UgAj",
        "outputId": "ef0e42e7-2322-461b-dbfb-d1457dff32ad"
      },
      "execution_count": null,
      "outputs": [
        {
          "output_type": "stream",
          "name": "stdout",
          "text": [
            "OOPS concepts are veryyyyyyyy simple than you think\n"
          ]
        }
      ]
    },
    {
      "cell_type": "code",
      "source": [
        "e.empinfo()"
      ],
      "metadata": {
        "colab": {
          "base_uri": "https://localhost:8080/"
        },
        "id": "ZEcESO8sUpHr",
        "outputId": "f33518c7-3631-4fab-e4a3-8a8b486e1720"
      },
      "execution_count": null,
      "outputs": [
        {
          "output_type": "stream",
          "name": "stdout",
          "text": [
            "Employee name Mohit\n",
            "Employee age 21111111\n",
            "Employee eno 1000010201021\n",
            "Employee email id hkjgaskjgkahsa@gmail.com\n",
            "Employee Car info\n",
            "car name=Innova model= 2.5V color= white\n"
          ]
        }
      ]
    },
    {
      "cell_type": "markdown",
      "source": [
        "# Types of inheritance"
      ],
      "metadata": {
        "id": "S3T2Bm-BZEAU"
      }
    },
    {
      "cell_type": "code",
      "source": [
        "# single inheritance => when a child class extends the all the properties and behaviour of parent class\n",
        "# inherting all the properties from one class to another class.\n",
        "class Parent:\n",
        "  def m1(self):\n",
        "    print(\"parent method\")\n",
        "\n",
        "class Child(Parent):\n",
        "  def m2(self):\n",
        "    print(\"child method\")\n"
      ],
      "metadata": {
        "id": "v5kDuKnLUvrG"
      },
      "execution_count": null,
      "outputs": []
    },
    {
      "cell_type": "code",
      "source": [
        "c = Child()\n",
        "p = Parent()"
      ],
      "metadata": {
        "id": "bL5csuZNZUit"
      },
      "execution_count": null,
      "outputs": []
    },
    {
      "cell_type": "code",
      "source": [
        "c.m1()"
      ],
      "metadata": {
        "colab": {
          "base_uri": "https://localhost:8080/"
        },
        "id": "hp7pRUbLZf79",
        "outputId": "e496d4f8-ac47-47cc-f4e1-e850b5bdfd12"
      },
      "execution_count": null,
      "outputs": [
        {
          "output_type": "stream",
          "name": "stdout",
          "text": [
            "parent method\n"
          ]
        }
      ]
    },
    {
      "cell_type": "code",
      "source": [
        "c.m2()"
      ],
      "metadata": {
        "colab": {
          "base_uri": "https://localhost:8080/"
        },
        "id": "Wi2x8J4SZhuu",
        "outputId": "5373d6d3-a98b-48e0-ac8e-08b25bac5937"
      },
      "execution_count": null,
      "outputs": [
        {
          "output_type": "stream",
          "name": "stdout",
          "text": [
            "child method\n"
          ]
        }
      ]
    },
    {
      "cell_type": "code",
      "source": [
        "p.m1()"
      ],
      "metadata": {
        "colab": {
          "base_uri": "https://localhost:8080/"
        },
        "id": "P_Om04rqZjd5",
        "outputId": "dcb2ca93-0771-4096-d25b-0f5c68a4f4f7"
      },
      "execution_count": null,
      "outputs": [
        {
          "output_type": "stream",
          "name": "stdout",
          "text": [
            "parent method\n"
          ]
        }
      ]
    },
    {
      "cell_type": "code",
      "source": [
        "p.m2()"
      ],
      "metadata": {
        "colab": {
          "base_uri": "https://localhost:8080/",
          "height": 141
        },
        "id": "lY5hK9Z3Zkz9",
        "outputId": "a5783fc2-6d6b-42c0-bdca-ef27ae32ad4b"
      },
      "execution_count": null,
      "outputs": [
        {
          "output_type": "error",
          "ename": "AttributeError",
          "evalue": "'Parent' object has no attribute 'm2'",
          "traceback": [
            "\u001b[0;31m---------------------------------------------------------------------------\u001b[0m",
            "\u001b[0;31mAttributeError\u001b[0m                            Traceback (most recent call last)",
            "\u001b[0;32m<ipython-input-94-10bc5ef500d1>\u001b[0m in \u001b[0;36m<cell line: 1>\u001b[0;34m()\u001b[0m\n\u001b[0;32m----> 1\u001b[0;31m \u001b[0mp\u001b[0m\u001b[0;34m.\u001b[0m\u001b[0mm2\u001b[0m\u001b[0;34m(\u001b[0m\u001b[0;34m)\u001b[0m\u001b[0;34m\u001b[0m\u001b[0;34m\u001b[0m\u001b[0m\n\u001b[0m",
            "\u001b[0;31mAttributeError\u001b[0m: 'Parent' object has no attribute 'm2'"
          ]
        }
      ]
    },
    {
      "cell_type": "code",
      "source": [
        "# Multi level inheritance - inherting the prop from multiple classes to single class with the concept of one after another.\n",
        "\n",
        "class P:\n",
        "  def m1(self):\n",
        "    print(\"Parent method\")\n",
        "class C(P):\n",
        "  def m2(self):\n",
        "    print(\"child method\")\n",
        "class CC(C):\n",
        "  def m3(self):\n",
        "    print(\"sub child method\")\n"
      ],
      "metadata": {
        "id": "ALKIEqMaZmG1"
      },
      "execution_count": null,
      "outputs": []
    },
    {
      "cell_type": "code",
      "source": [
        "c = CC()"
      ],
      "metadata": {
        "id": "q1VMvEdGazYC"
      },
      "execution_count": null,
      "outputs": []
    },
    {
      "cell_type": "code",
      "source": [
        "c.m1()"
      ],
      "metadata": {
        "colab": {
          "base_uri": "https://localhost:8080/"
        },
        "id": "ZEcwIpRDbFFt",
        "outputId": "d30d54d8-aa7f-4411-c8a7-aba256577163"
      },
      "execution_count": null,
      "outputs": [
        {
          "output_type": "stream",
          "name": "stdout",
          "text": [
            "parent method\n"
          ]
        }
      ]
    },
    {
      "cell_type": "code",
      "source": [
        "c.m2()"
      ],
      "metadata": {
        "colab": {
          "base_uri": "https://localhost:8080/"
        },
        "id": "dDUcnNAHbF51",
        "outputId": "0bbf90b5-a763-4326-af69-30040e04fd35"
      },
      "execution_count": null,
      "outputs": [
        {
          "output_type": "stream",
          "name": "stdout",
          "text": [
            "child method\n"
          ]
        }
      ]
    },
    {
      "cell_type": "code",
      "source": [
        "c.m3()"
      ],
      "metadata": {
        "colab": {
          "base_uri": "https://localhost:8080/",
          "height": 141
        },
        "id": "RrnTwOWVbG7l",
        "outputId": "46be5bfa-44d7-4dcd-a631-055d09e29c59"
      },
      "execution_count": null,
      "outputs": [
        {
          "output_type": "error",
          "ename": "AttributeError",
          "evalue": "'Child' object has no attribute 'm3'",
          "traceback": [
            "\u001b[0;31m---------------------------------------------------------------------------\u001b[0m",
            "\u001b[0;31mAttributeError\u001b[0m                            Traceback (most recent call last)",
            "\u001b[0;32m<ipython-input-97-c4da61a192bb>\u001b[0m in \u001b[0;36m<cell line: 1>\u001b[0;34m()\u001b[0m\n\u001b[0;32m----> 1\u001b[0;31m \u001b[0mc\u001b[0m\u001b[0;34m.\u001b[0m\u001b[0mm3\u001b[0m\u001b[0;34m(\u001b[0m\u001b[0;34m)\u001b[0m\u001b[0;34m\u001b[0m\u001b[0;34m\u001b[0m\u001b[0m\n\u001b[0m",
            "\u001b[0;31mAttributeError\u001b[0m: 'Child' object has no attribute 'm3'"
          ]
        }
      ]
    },
    {
      "cell_type": "code",
      "source": [
        "# hierarical inheritance:- The concept of inheriting properties from one class into multiple classes which are present at same level.\n",
        "\n",
        "class P:\n",
        "  def m1(self):\n",
        "    print(\"Parent method\")\n",
        "class C1(P):\n",
        "  def m2(self):\n",
        "    print(\"child 1 method\")\n",
        "class C2(P):\n",
        "  def m3(self):\n",
        "    print(\"child 2 method\")\n"
      ],
      "metadata": {
        "id": "IPtEPUB4bH4T"
      },
      "execution_count": null,
      "outputs": []
    },
    {
      "cell_type": "code",
      "source": [
        "c1 = C1()\n",
        "c2 = C2()"
      ],
      "metadata": {
        "id": "uaWgTBDSb3yo",
        "colab": {
          "base_uri": "https://localhost:8080/",
          "height": 159
        },
        "outputId": "135c3fba-3980-42f4-bbc6-f6d1e58ad504"
      },
      "execution_count": null,
      "outputs": [
        {
          "output_type": "error",
          "ename": "NameError",
          "evalue": "name 'C1' is not defined",
          "traceback": [
            "\u001b[0;31m---------------------------------------------------------------------------\u001b[0m",
            "\u001b[0;31mNameError\u001b[0m                                 Traceback (most recent call last)",
            "\u001b[0;32m<ipython-input-98-1bc2679b73a1>\u001b[0m in \u001b[0;36m<cell line: 1>\u001b[0;34m()\u001b[0m\n\u001b[0;32m----> 1\u001b[0;31m \u001b[0mc1\u001b[0m \u001b[0;34m=\u001b[0m \u001b[0mC1\u001b[0m\u001b[0;34m(\u001b[0m\u001b[0;34m)\u001b[0m\u001b[0;34m\u001b[0m\u001b[0;34m\u001b[0m\u001b[0m\n\u001b[0m\u001b[1;32m      2\u001b[0m \u001b[0mc2\u001b[0m \u001b[0;34m=\u001b[0m \u001b[0mC2\u001b[0m\u001b[0;34m(\u001b[0m\u001b[0;34m)\u001b[0m\u001b[0;34m\u001b[0m\u001b[0;34m\u001b[0m\u001b[0m\n",
            "\u001b[0;31mNameError\u001b[0m: name 'C1' is not defined"
          ]
        }
      ]
    },
    {
      "cell_type": "code",
      "source": [
        "c1.m1()"
      ],
      "metadata": {
        "id": "fwzUEW4_b_0J"
      },
      "execution_count": null,
      "outputs": []
    },
    {
      "cell_type": "code",
      "source": [],
      "metadata": {
        "id": "INqfb-jLctrD"
      },
      "execution_count": null,
      "outputs": []
    },
    {
      "cell_type": "code",
      "source": [
        "c1.m2()"
      ],
      "metadata": {
        "colab": {
          "base_uri": "https://localhost:8080/",
          "height": 141
        },
        "id": "yekZADBNcBZ1",
        "outputId": "824ed7a1-d245-4fb5-e192-a318d99d9ffb"
      },
      "execution_count": null,
      "outputs": [
        {
          "output_type": "error",
          "ename": "NameError",
          "evalue": "name 'c1' is not defined",
          "traceback": [
            "\u001b[0;31m---------------------------------------------------------------------------\u001b[0m",
            "\u001b[0;31mNameError\u001b[0m                                 Traceback (most recent call last)",
            "\u001b[0;32m<ipython-input-99-24c7d37ad7c3>\u001b[0m in \u001b[0;36m<cell line: 1>\u001b[0;34m()\u001b[0m\n\u001b[0;32m----> 1\u001b[0;31m \u001b[0mc1\u001b[0m\u001b[0;34m.\u001b[0m\u001b[0mm2\u001b[0m\u001b[0;34m(\u001b[0m\u001b[0;34m)\u001b[0m\u001b[0;34m\u001b[0m\u001b[0;34m\u001b[0m\u001b[0m\n\u001b[0m",
            "\u001b[0;31mNameError\u001b[0m: name 'c1' is not defined"
          ]
        }
      ]
    },
    {
      "cell_type": "code",
      "source": [
        "c2.m1()"
      ],
      "metadata": {
        "colab": {
          "base_uri": "https://localhost:8080/",
          "height": 141
        },
        "id": "D8DoPs4QcD65",
        "outputId": "d77e715e-a8b4-4e01-f0e5-a5878feba675"
      },
      "execution_count": null,
      "outputs": [
        {
          "output_type": "error",
          "ename": "NameError",
          "evalue": "name 'c2' is not defined",
          "traceback": [
            "\u001b[0;31m---------------------------------------------------------------------------\u001b[0m",
            "\u001b[0;31mNameError\u001b[0m                                 Traceback (most recent call last)",
            "\u001b[0;32m<ipython-input-100-5fc9203c6488>\u001b[0m in \u001b[0;36m<cell line: 1>\u001b[0;34m()\u001b[0m\n\u001b[0;32m----> 1\u001b[0;31m \u001b[0mc2\u001b[0m\u001b[0;34m.\u001b[0m\u001b[0mm1\u001b[0m\u001b[0;34m(\u001b[0m\u001b[0;34m)\u001b[0m\u001b[0;34m\u001b[0m\u001b[0;34m\u001b[0m\u001b[0m\n\u001b[0m",
            "\u001b[0;31mNameError\u001b[0m: name 'c2' is not defined"
          ]
        }
      ]
    },
    {
      "cell_type": "code",
      "source": [
        "c2.m3()"
      ],
      "metadata": {
        "id": "6FiEwLFfcE9D"
      },
      "execution_count": null,
      "outputs": []
    },
    {
      "cell_type": "code",
      "source": [
        "# multiple inheritance => the concept of inheriting the properties from multiple classes into a single class at a time.\n",
        "\n",
        "class P1:\n",
        "  def m1(self):\n",
        "    print(\"Parent1 method\")\n",
        "\n",
        "class P2():\n",
        "  def m2(self):\n",
        "    print(\"Parent2 method\")\n",
        "\n",
        "class C(P1, P2):\n",
        "  def m3(self):\n",
        "    print(\"child of P1 and P2 method\")"
      ],
      "metadata": {
        "id": "yANoCBP6cFqr"
      },
      "execution_count": null,
      "outputs": []
    },
    {
      "cell_type": "code",
      "source": [
        "c = C()"
      ],
      "metadata": {
        "id": "6v_QIZ4Dc7d0"
      },
      "execution_count": null,
      "outputs": []
    },
    {
      "cell_type": "code",
      "source": [
        "c.m1()"
      ],
      "metadata": {
        "colab": {
          "base_uri": "https://localhost:8080/"
        },
        "id": "GPs5yxIpdJxr",
        "outputId": "474fd6a4-ca92-4cda-f9ea-150114c24bd2"
      },
      "execution_count": null,
      "outputs": [
        {
          "output_type": "stream",
          "name": "stdout",
          "text": [
            "Parent1 method\n"
          ]
        }
      ]
    },
    {
      "cell_type": "code",
      "source": [
        "c.m2()"
      ],
      "metadata": {
        "colab": {
          "base_uri": "https://localhost:8080/"
        },
        "id": "fctpM3ljdLpO",
        "outputId": "d297e314-31e3-4d15-d7bf-dcd79a62ff2b"
      },
      "execution_count": null,
      "outputs": [
        {
          "output_type": "stream",
          "name": "stdout",
          "text": [
            "Parent2 method\n"
          ]
        }
      ]
    },
    {
      "cell_type": "code",
      "source": [
        "c.m3()"
      ],
      "metadata": {
        "colab": {
          "base_uri": "https://localhost:8080/"
        },
        "id": "-BY8Yak1dPK4",
        "outputId": "1a339be5-ede1-48a2-bcbf-c1ff84e45338"
      },
      "execution_count": null,
      "outputs": [
        {
          "output_type": "stream",
          "name": "stdout",
          "text": [
            "child of P1 and P2 method\n"
          ]
        }
      ]
    },
    {
      "cell_type": "code",
      "source": [
        "# python always consider the order of parent class\n",
        "class P1:\n",
        "  def m1(self):\n",
        "    print(\"Parent1 method\")\n",
        "\n",
        "class P2():\n",
        "  def m1(self):\n",
        "    print(\"Parent2 method\")\n",
        "\n",
        "class C(P2,P1):\n",
        "  def m3(self):\n",
        "    print(\"child of P1 and P2 method\")"
      ],
      "metadata": {
        "id": "CbIq9Dh4dRM_"
      },
      "execution_count": null,
      "outputs": []
    },
    {
      "cell_type": "code",
      "source": [
        "c = C()\n",
        "c.m1()"
      ],
      "metadata": {
        "colab": {
          "base_uri": "https://localhost:8080/"
        },
        "id": "haDtCJXkdks4",
        "outputId": "e5b74d17-ec2b-4fb9-8551-294b04cd6e8b"
      },
      "execution_count": null,
      "outputs": [
        {
          "output_type": "stream",
          "name": "stdout",
          "text": [
            "Parent2 method\n"
          ]
        }
      ]
    },
    {
      "cell_type": "code",
      "source": [
        "class P1:\n",
        "  def m1(self):\n",
        "    print(\"Parent1 method\")\n",
        "\n",
        "class P2():\n",
        "  def m1(self):\n",
        "    print(\"Parent2 method\")\n",
        "\n",
        "class C(P1, P2):\n",
        "  def m3(self):\n",
        "    print(\"child of P1 and P2 method\")"
      ],
      "metadata": {
        "id": "xMwc_bTxdrx6"
      },
      "execution_count": null,
      "outputs": []
    },
    {
      "cell_type": "code",
      "source": [
        "c = C()\n",
        "c.m1()"
      ],
      "metadata": {
        "colab": {
          "base_uri": "https://localhost:8080/"
        },
        "id": "SVt8FlB0eDjE",
        "outputId": "042d4cfe-c074-4802-c33f-92cc6ec0496e"
      },
      "execution_count": null,
      "outputs": [
        {
          "output_type": "stream",
          "name": "stdout",
          "text": [
            "Parent1 method\n"
          ]
        }
      ]
    },
    {
      "cell_type": "code",
      "source": [
        "# hybrid - combination of single, multiple, multi level, hirerical inheritance"
      ],
      "metadata": {
        "id": "WFea4Z1LeE8B"
      },
      "execution_count": null,
      "outputs": []
    },
    {
      "cell_type": "code",
      "source": [
        "# encapsulation -> It used to for data binding\n",
        "\n",
        "# why =>"
      ],
      "metadata": {
        "id": "XwbqMsUQfdJ-"
      },
      "execution_count": null,
      "outputs": []
    },
    {
      "cell_type": "code",
      "source": [
        "class Student:\n",
        "\n",
        "  def __init__(self,name,email_id):\n",
        "    self.name = name\n",
        "    self.email_id = email_id\n",
        "\n",
        "  def display(self):\n",
        "    print(self.name, self.email_id)"
      ],
      "metadata": {
        "id": "BLIsrrN2WfAR"
      },
      "execution_count": null,
      "outputs": []
    },
    {
      "cell_type": "code",
      "source": [
        "s= Student('Akhil', 'ashhdibs@klsdha.com')"
      ],
      "metadata": {
        "id": "FkTtcTJLWwgM"
      },
      "execution_count": null,
      "outputs": []
    },
    {
      "cell_type": "code",
      "source": [
        "s.email_id"
      ],
      "metadata": {
        "colab": {
          "base_uri": "https://localhost:8080/",
          "height": 35
        },
        "id": "dQx8aFOuW7Ca",
        "outputId": "d0fcef50-cd5e-451d-d4bd-d660cb500b6b"
      },
      "execution_count": null,
      "outputs": [
        {
          "output_type": "execute_result",
          "data": {
            "text/plain": [
              "'ashhdibs@klsdha.com'"
            ],
            "application/vnd.google.colaboratory.intrinsic+json": {
              "type": "string"
            }
          },
          "metadata": {},
          "execution_count": 128
        }
      ]
    },
    {
      "cell_type": "code",
      "source": [
        "s.name"
      ],
      "metadata": {
        "colab": {
          "base_uri": "https://localhost:8080/",
          "height": 35
        },
        "id": "3mwOuBJ_W7oQ",
        "outputId": "5ae5d500-cabe-4962-a58f-b5f08db67974"
      },
      "execution_count": null,
      "outputs": [
        {
          "output_type": "execute_result",
          "data": {
            "text/plain": [
              "'Akhil'"
            ],
            "application/vnd.google.colaboratory.intrinsic+json": {
              "type": "string"
            }
          },
          "metadata": {},
          "execution_count": 129
        }
      ]
    },
    {
      "cell_type": "code",
      "source": [
        "s.display()"
      ],
      "metadata": {
        "colab": {
          "base_uri": "https://localhost:8080/"
        },
        "id": "o_oBrottXWC6",
        "outputId": "0b4e54db-3852-4ceb-aaab-244c56ba9bda"
      },
      "execution_count": null,
      "outputs": [
        {
          "output_type": "stream",
          "name": "stdout",
          "text": [
            "Akhil ashhdibs@klsdha.com\n"
          ]
        }
      ]
    },
    {
      "cell_type": "code",
      "source": [
        "s.email_id = \"Hello@gmail.com\""
      ],
      "metadata": {
        "id": "X6wLMKkSXlJL"
      },
      "execution_count": null,
      "outputs": []
    },
    {
      "cell_type": "code",
      "source": [
        "s.email_id"
      ],
      "metadata": {
        "colab": {
          "base_uri": "https://localhost:8080/",
          "height": 35
        },
        "id": "wp5wPoJQXupk",
        "outputId": "5889921c-f9bb-4d54-e3e5-3f50a5eacf34"
      },
      "execution_count": null,
      "outputs": [
        {
          "output_type": "execute_result",
          "data": {
            "text/plain": [
              "'Hello@gamil.com'"
            ],
            "application/vnd.google.colaboratory.intrinsic+json": {
              "type": "string"
            }
          },
          "metadata": {},
          "execution_count": 132
        }
      ]
    },
    {
      "cell_type": "code",
      "source": [
        "class StudentDemo:\n",
        "\n",
        "  def __init__(self,name,email_id):\n",
        "    self.__name = name # private variables (__) and {_} protected and public if no underscore\n",
        "    self.__email_id = email_id\n",
        "\n",
        "  def set_name(self, name):\n",
        "    self.__name = name\n",
        "\n",
        "  def set_email_id(self, email_id):\n",
        "    self.__email_id = email_id\n",
        "\n",
        "\n",
        "  def display(self):\n",
        "    print(self.__name, self.__email_id)"
      ],
      "metadata": {
        "id": "84K8rXFeXwSW"
      },
      "execution_count": null,
      "outputs": []
    },
    {
      "cell_type": "code",
      "source": [
        "s= StudentDemo('Akhil', 'akhil@yahoo.com')"
      ],
      "metadata": {
        "id": "yP31Rm7DYE8X"
      },
      "execution_count": null,
      "outputs": []
    },
    {
      "cell_type": "code",
      "source": [
        "s.display()"
      ],
      "metadata": {
        "colab": {
          "base_uri": "https://localhost:8080/"
        },
        "id": "C5M7NSO7YKWi",
        "outputId": "89829ef7-f106-4ebf-bda9-df588ff01931"
      },
      "execution_count": null,
      "outputs": [
        {
          "output_type": "stream",
          "name": "stdout",
          "text": [
            "Akhil akhil@yahoo.com\n"
          ]
        }
      ]
    },
    {
      "cell_type": "code",
      "source": [
        "s.name"
      ],
      "metadata": {
        "colab": {
          "base_uri": "https://localhost:8080/",
          "height": 141
        },
        "id": "1uF-BjpMYNDW",
        "outputId": "e37c210c-d2dc-44f8-f452-5d755cc8444f"
      },
      "execution_count": null,
      "outputs": [
        {
          "output_type": "error",
          "ename": "AttributeError",
          "evalue": "'StudentDemo' object has no attribute 'name'",
          "traceback": [
            "\u001b[0;31m---------------------------------------------------------------------------\u001b[0m",
            "\u001b[0;31mAttributeError\u001b[0m                            Traceback (most recent call last)",
            "\u001b[0;32m<ipython-input-192-98b019fbfe94>\u001b[0m in \u001b[0;36m<cell line: 1>\u001b[0;34m()\u001b[0m\n\u001b[0;32m----> 1\u001b[0;31m \u001b[0ms\u001b[0m\u001b[0;34m.\u001b[0m\u001b[0mname\u001b[0m\u001b[0;34m\u001b[0m\u001b[0;34m\u001b[0m\u001b[0m\n\u001b[0m",
            "\u001b[0;31mAttributeError\u001b[0m: 'StudentDemo' object has no attribute 'name'"
          ]
        }
      ]
    },
    {
      "cell_type": "code",
      "source": [
        "s.__name"
      ],
      "metadata": {
        "id": "nzjt9YIWYQCs"
      },
      "execution_count": null,
      "outputs": []
    },
    {
      "cell_type": "code",
      "source": [
        "_s.__name"
      ],
      "metadata": {
        "colab": {
          "base_uri": "https://localhost:8080/",
          "height": 141
        },
        "id": "HE6pGnK9YVca",
        "outputId": "427ac02d-1275-404d-b25c-60541941108f"
      },
      "execution_count": null,
      "outputs": [
        {
          "output_type": "error",
          "ename": "NameError",
          "evalue": "name '_s' is not defined",
          "traceback": [
            "\u001b[0;31m---------------------------------------------------------------------------\u001b[0m",
            "\u001b[0;31mNameError\u001b[0m                                 Traceback (most recent call last)",
            "\u001b[0;32m<ipython-input-193-73cc1a5d3e1d>\u001b[0m in \u001b[0;36m<cell line: 1>\u001b[0;34m()\u001b[0m\n\u001b[0;32m----> 1\u001b[0;31m \u001b[0m_s\u001b[0m\u001b[0;34m.\u001b[0m\u001b[0m__name\u001b[0m\u001b[0;34m\u001b[0m\u001b[0;34m\u001b[0m\u001b[0m\n\u001b[0m",
            "\u001b[0;31mNameError\u001b[0m: name '_s' is not defined"
          ]
        }
      ]
    },
    {
      "cell_type": "code",
      "source": [
        "s._StudentDemo__name"
      ],
      "metadata": {
        "colab": {
          "base_uri": "https://localhost:8080/",
          "height": 35
        },
        "id": "pLpNX6Z4YaHJ",
        "outputId": "9a635cea-19d2-4b0b-ee7b-cc76d51f7cf5"
      },
      "execution_count": null,
      "outputs": [
        {
          "output_type": "execute_result",
          "data": {
            "text/plain": [
              "'Akhil'"
            ],
            "application/vnd.google.colaboratory.intrinsic+json": {
              "type": "string"
            }
          },
          "metadata": {},
          "execution_count": 194
        }
      ]
    },
    {
      "cell_type": "code",
      "source": [
        "s.set_email_id(\"AkhilSharma@gmail.com\")\n",
        "s.set_name(\"AKHIL SHARMA\")"
      ],
      "metadata": {
        "id": "8IW8dZ9SYcjz"
      },
      "execution_count": null,
      "outputs": []
    },
    {
      "cell_type": "code",
      "source": [
        "s.display()"
      ],
      "metadata": {
        "colab": {
          "base_uri": "https://localhost:8080/"
        },
        "id": "Z84ulq0EcMsw",
        "outputId": "e3ed0129-88f5-46bf-8850-9d7d34d4b069"
      },
      "execution_count": null,
      "outputs": [
        {
          "output_type": "stream",
          "name": "stdout",
          "text": [
            "AKHIL SHARMA AkhilSharma@gmail.com\n"
          ]
        }
      ]
    },
    {
      "cell_type": "code",
      "source": [
        "# ploymorphism"
      ],
      "metadata": {
        "id": "lsPiTADZcOd3"
      },
      "execution_count": null,
      "outputs": []
    },
    {
      "cell_type": "code",
      "source": [
        "s1 =\"Mohit\"\n",
        "s2 = 'mahi'\n",
        "s1+s2"
      ],
      "metadata": {
        "colab": {
          "base_uri": "https://localhost:8080/",
          "height": 35
        },
        "id": "n7ToKA8JdRVB",
        "outputId": "69eb4d13-39a7-4a11-835c-193e46192c89"
      },
      "execution_count": null,
      "outputs": [
        {
          "output_type": "execute_result",
          "data": {
            "text/plain": [
              "'Mohitmahi'"
            ],
            "application/vnd.google.colaboratory.intrinsic+json": {
              "type": "string"
            }
          },
          "metadata": {},
          "execution_count": 199
        }
      ]
    },
    {
      "cell_type": "code",
      "source": [
        "s3 = 10\n",
        "s4 = 20\n",
        "s3+s4"
      ],
      "metadata": {
        "colab": {
          "base_uri": "https://localhost:8080/"
        },
        "id": "wxCn-QZbdV_f",
        "outputId": "e272ee11-055a-4920-ebae-a0344f738ba3"
      },
      "execution_count": null,
      "outputs": [
        {
          "output_type": "execute_result",
          "data": {
            "text/plain": [
              "30"
            ]
          },
          "metadata": {},
          "execution_count": 200
        }
      ]
    },
    {
      "cell_type": "code",
      "source": [
        "10*3"
      ],
      "metadata": {
        "colab": {
          "base_uri": "https://localhost:8080/"
        },
        "id": "8sKn_prHdaw7",
        "outputId": "25834959-c640-47dd-9a0e-2996586ad1b4"
      },
      "execution_count": null,
      "outputs": [
        {
          "output_type": "execute_result",
          "data": {
            "text/plain": [
              "30"
            ]
          },
          "metadata": {},
          "execution_count": 201
        }
      ]
    },
    {
      "cell_type": "code",
      "source": [
        "\"mohit\"*3"
      ],
      "metadata": {
        "colab": {
          "base_uri": "https://localhost:8080/",
          "height": 35
        },
        "id": "fmWYQak8dh3o",
        "outputId": "24fc68d7-e61d-4708-efe1-a078aee8f9fe"
      },
      "execution_count": null,
      "outputs": [
        {
          "output_type": "execute_result",
          "data": {
            "text/plain": [
              "'mohitmohitmohit'"
            ],
            "application/vnd.google.colaboratory.intrinsic+json": {
              "type": "string"
            }
          },
          "metadata": {},
          "execution_count": 202
        }
      ]
    },
    {
      "cell_type": "code",
      "source": [
        "# COMPILE TIME POLYMORPHISM => OVERLOADING\n",
        "# RUN TIME POLYMORPHISM => OVERRIDING"
      ],
      "metadata": {
        "id": "JOTnoQyVdkoC"
      },
      "execution_count": null,
      "outputs": []
    },
    {
      "cell_type": "code",
      "source": [
        "# RUN TIME POLYMORPHISM => OVERRIDING\n",
        "class Animal:\n",
        "  def speak(self):\n",
        "    pass\n",
        "class Dog(Animal):\n",
        "  def speak(self):\n",
        "    return 'woof'\n",
        "\n",
        "class Cat(Animal):\n",
        "  def speak(self):\n",
        "    return 'Meow'\n",
        "\n",
        "class Cow(Animal):\n",
        "  def speak(self):\n",
        "    return 'Moo'\n",
        "\n",
        "\n",
        "dog = Dog()\n",
        "cat = Cat()\n",
        "cow = Cow()"
      ],
      "metadata": {
        "id": "HiCpE1xoeO2q"
      },
      "execution_count": null,
      "outputs": []
    },
    {
      "cell_type": "code",
      "source": [
        "dog.speak()"
      ],
      "metadata": {
        "colab": {
          "base_uri": "https://localhost:8080/",
          "height": 35
        },
        "id": "DOsDPxJjfE4J",
        "outputId": "6e7de5d7-20d8-4721-9340-a7d06f2c5d43"
      },
      "execution_count": null,
      "outputs": [
        {
          "output_type": "execute_result",
          "data": {
            "text/plain": [
              "'woof'"
            ],
            "application/vnd.google.colaboratory.intrinsic+json": {
              "type": "string"
            }
          },
          "metadata": {},
          "execution_count": 205
        }
      ]
    },
    {
      "cell_type": "code",
      "source": [
        "cat.speak()"
      ],
      "metadata": {
        "colab": {
          "base_uri": "https://localhost:8080/",
          "height": 35
        },
        "id": "WdUsf8TQfIAP",
        "outputId": "14cb40c8-b912-48be-9d88-1f507e1a1ad2"
      },
      "execution_count": null,
      "outputs": [
        {
          "output_type": "execute_result",
          "data": {
            "text/plain": [
              "'Meow'"
            ],
            "application/vnd.google.colaboratory.intrinsic+json": {
              "type": "string"
            }
          },
          "metadata": {},
          "execution_count": 206
        }
      ]
    },
    {
      "cell_type": "code",
      "source": [
        "cow.speak()"
      ],
      "metadata": {
        "colab": {
          "base_uri": "https://localhost:8080/",
          "height": 35
        },
        "id": "K2AIKudUfKsW",
        "outputId": "46152f3b-20a0-4a97-9225-6e4fcc017fca"
      },
      "execution_count": null,
      "outputs": [
        {
          "output_type": "execute_result",
          "data": {
            "text/plain": [
              "'Moo'"
            ],
            "application/vnd.google.colaboratory.intrinsic+json": {
              "type": "string"
            }
          },
          "metadata": {},
          "execution_count": 207
        }
      ]
    },
    {
      "cell_type": "code",
      "source": [
        "# COMPILE TIME POLYMORPHISM => OVERLOADING\n",
        "\n",
        "class Addition:\n",
        "\n",
        "  def add(self):\n",
        "    return 'non parametrized'\n",
        "\n",
        "  def add(self, x):\n",
        "    return '1 parametrized'\n",
        "\n",
        "  def add(self, a=0,b=0):\n",
        "    return '2 parametrized'\n",
        "\n",
        "\n",
        "val = Addition()"
      ],
      "metadata": {
        "id": "M9ltEkIKfOIB"
      },
      "execution_count": null,
      "outputs": []
    },
    {
      "cell_type": "code",
      "source": [
        "val.add()"
      ],
      "metadata": {
        "colab": {
          "base_uri": "https://localhost:8080/",
          "height": 35
        },
        "id": "7svFXfCUfeiW",
        "outputId": "21a470d2-11bf-466e-f59e-33fe536b5b74"
      },
      "execution_count": null,
      "outputs": [
        {
          "output_type": "execute_result",
          "data": {
            "text/plain": [
              "'2 parametrized'"
            ],
            "application/vnd.google.colaboratory.intrinsic+json": {
              "type": "string"
            }
          },
          "metadata": {},
          "execution_count": 223
        }
      ]
    },
    {
      "cell_type": "code",
      "source": [
        "class Multiplication:\n",
        "\n",
        "  def mul(self,*args):\n",
        "    prod = 1\n",
        "    for i in args:\n",
        "      prod = prod * i\n",
        "    return prod\n",
        "\n",
        "m = Multiplication()\n",
        "m.mul(1,2,3,4,5)\n"
      ],
      "metadata": {
        "colab": {
          "base_uri": "https://localhost:8080/"
        },
        "id": "MANVj8o0fj_t",
        "outputId": "299e87a7-b8b0-4477-d3f3-1264eecf3e37"
      },
      "execution_count": null,
      "outputs": [
        {
          "output_type": "execute_result",
          "data": {
            "text/plain": [
              "120"
            ]
          },
          "metadata": {},
          "execution_count": 227
        }
      ]
    },
    {
      "cell_type": "markdown",
      "source": [
        "# abstraction"
      ],
      "metadata": {
        "id": "gNgJ9mp3jBEr"
      }
    },
    {
      "cell_type": "code",
      "source": [
        "from abc import ABC, abstractmethod\n",
        "\n",
        "class Shape(ABC):\n",
        "  @abstractmethod\n",
        "  def area(self):\n",
        "    pass\n",
        "\n",
        "class Rectangle(Shape):\n",
        "  def __init__(self, width, height):\n",
        "    self.width = width\n",
        "    self.height = height\n",
        "\n",
        "  def area(self):\n",
        "    return self.width * self.height\n",
        "\n",
        "class Circle(Shape):\n",
        "    def __init__(self, radius):\n",
        "      self.radius = radius\n",
        "\n",
        "    def area(self):\n",
        "      return 3.14 * self.radius ** 2"
      ],
      "metadata": {
        "id": "_LDQO0nWiJbB"
      },
      "execution_count": null,
      "outputs": []
    },
    {
      "cell_type": "code",
      "source": [
        "rect = Rectangle(3,4)\n",
        "circle = Circle(3)"
      ],
      "metadata": {
        "id": "LSRVZ5lvkQtY"
      },
      "execution_count": null,
      "outputs": []
    },
    {
      "cell_type": "code",
      "source": [
        "rect.area()\n"
      ],
      "metadata": {
        "colab": {
          "base_uri": "https://localhost:8080/"
        },
        "id": "QqoYY2a5kiNS",
        "outputId": "0c135535-44d8-4428-a64c-a23a942945bd"
      },
      "execution_count": null,
      "outputs": [
        {
          "output_type": "execute_result",
          "data": {
            "text/plain": [
              "12"
            ]
          },
          "metadata": {},
          "execution_count": 232
        }
      ]
    },
    {
      "cell_type": "code",
      "source": [
        "circle.area()"
      ],
      "metadata": {
        "colab": {
          "base_uri": "https://localhost:8080/"
        },
        "id": "WJlWk24-kn-4",
        "outputId": "06fd2738-10ab-4e13-8f94-274dcb60fc38"
      },
      "execution_count": null,
      "outputs": [
        {
          "output_type": "execute_result",
          "data": {
            "text/plain": [
              "28.26"
            ]
          },
          "metadata": {},
          "execution_count": 233
        }
      ]
    },
    {
      "cell_type": "code",
      "source": [],
      "metadata": {
        "id": "iSprIO2nkqb6"
      },
      "execution_count": null,
      "outputs": []
    },
    {
      "cell_type": "code",
      "source": [],
      "metadata": {
        "id": "Hu_UVKVdk17W"
      },
      "execution_count": null,
      "outputs": []
    }
  ]
}